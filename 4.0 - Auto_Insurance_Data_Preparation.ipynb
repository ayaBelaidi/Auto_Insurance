{
 "cells": [
  {
   "cell_type": "markdown",
   "metadata": {},
   "source": [
    "<img src= 'http://www.bigbang-datascience.com/wp-content/uploads/2017/09/cropped-Logo-01.jpg' width=500/>"
   ]
  },
  {
   "cell_type": "markdown",
   "metadata": {},
   "source": [
    "## Project Guide  \n",
    "------------  \n",
    "- [Project Overview](#project-overview)  \n",
    "- [Part 1: Reading Data - Exploratory Data Analysis with Pandas](#I)\n",
    "- [Part 2: Visual data analysis in Python](#II)\n",
    "- [Part 3: Data Pre-processing &  Preparation](#III)\n",
    "- [Part 4: Predictive Analytics](#IV)\n",
    "- [Part 5: Optimization (Hyper Parameter Tuning)](#V)"
   ]
  },
  {
   "cell_type": "markdown",
   "metadata": {},
   "source": [
    "<details>\n",
    "<summary>\n",
    "Roadmap for Building Machine Learning Models\n",
    "</summary>\n",
    "<p>\n",
    "\n",
    "\n",
    "    1. Prepare Problem  \n",
    "    a) Define The Business Objective  \n",
    "    b) Select the datasets  \n",
    "    c) Load dataset  \n",
    "    d) Load libraries  \n",
    "\n",
    "\n",
    "**Data Pre-processing**  \n",
    "This is the first step in building a machine learning model. Data pre-processing refers to the transformation of data\n",
    "before feeding it into the model. It deals with the techniques that are used to convert unusable raw data into clean \n",
    "reliable data.  \n",
    "  \n",
    "Since data collection is often not performed in a controlled manner, raw data often contains outliers \n",
    "(for example, age = 120), nonsensical data combinations (for example, model: bicycle, type: 4-wheeler), missing values, \n",
    "scale problems, and so on. Because of this, raw data cannot be fed into a machine learning model because it might \n",
    "compromise the quality of the results. As such, this is the most important step in the process of data science.  \n",
    "  \n",
    "\n",
    "    2. Summarize Data  \n",
    "    a) Descriptive statistics  \n",
    "    b) Data visualizations  \n",
    "\n",
    "    3. Prepare Data  \n",
    "    a) Data Cleaning  \n",
    "    b) Feature Selection  \n",
    "    c) Data Transformation  \n",
    "\n",
    "**Model Learning**  \n",
    "After pre-processing the data and splitting it into train/test sets (more on this later), we move on to modeling. Models \n",
    "are nothing but sets of well-defined methods called algorithms that use pre-processed data to learn patterns, which can \n",
    "later be used to make predictions. There are different types of learning algorithms, including supervised, semi-supervised, \n",
    "unsupervised, and reinforcement learning. These will be discussed later.\n",
    "  \n",
    "    4. Modeling Strategy  \n",
    "    a) Select Suitable Algorithms  \n",
    "    b) Select Training/Testing Approaches  \n",
    "    c) Train   \n",
    "  \n",
    "  \n",
    "**Model Evaluation**  \n",
    "In this stage, the models are evaluated with the help of specific performance metrics. With these metrics, we can go on to \n",
    "tune the hyperparameters of a model in order to improve it. This process is called hyperparameter optimization. We will \n",
    "repeat this step until we are satisfied with the performance.  \n",
    "  \n",
    "    4. Evaluate Algorithms  \n",
    "    a) Split-out validation dataset  \n",
    "    b) Test options and evaluation metric  \n",
    "    c) Spot Check Algorithms  \n",
    "    d) Compare Algorithms  \n",
    "  \n",
    "**Prediction**  \n",
    "Once we are happy with the results from the evaluation step, we will then move on to predictions. Predictions are made \n",
    "by the trained model when it is exposed to a new dataset. In a business setting, these predictions can be shared with \n",
    "decision makers to make effective business choices.  \n",
    "  \n",
    "    5. Improve Accuracy  \n",
    "    a) Algorithm Tuning  \n",
    "    b) Ensembles  \n",
    "\n",
    "**Model Deployment**  \n",
    "The whole process of machine learning does not just stop with model building and prediction. It also involves making use \n",
    "of the model to build an application with the new data. Depending on the business requirements, the deployment may be a \n",
    "report, or it may be some repetitive data science steps that are to be executed. After deployment, a model needs proper \n",
    "management and maintenance at regular intervals to keep it up and running.  \n",
    "\n",
    "    6. Finalize Model  \n",
    "    a) Predictions on validation dataset  \n",
    "    b) Create standalone model on entire training dataset  \n",
    "    c) Save model for later use  \n",
    "\n",
    "\n",
    "</p>\n",
    "</details>"
   ]
  },
  {
   "cell_type": "markdown",
   "metadata": {},
   "source": [
    "<a id=\"I\"></a>\n",
    "\n",
    "# Reading Data - Exploratory Data Analysis with Pandas"
   ]
  },
  {
   "cell_type": "markdown",
   "metadata": {},
   "source": [
    "### Demonstration of main Pandas methods \n",
    "\n",
    "**[Pandas](http://pandas.pydata.org)** is a Python library that provides extensive means for data analysis. Data scientists often work with data stored in table formats like `.csv`, `.tsv`, or `.xlsx`. Pandas makes it very convenient to load, process, and analyze such tabular data using SQL-like queries. In conjunction with `Matplotlib` and `Seaborn`, `Pandas` provides a wide range of opportunities for visual analysis of tabular data.\n",
    "\n",
    "The main data structures in `Pandas` are implemented with **Series** and **DataFrame** classes. The former is a one-dimensional indexed array of some fixed data type. The latter is a two-dimensional data structure - a table - where each column contains data of the same type. You can see it as a dictionary of `Series` instances. `DataFrames` are great for representing real data: rows correspond to instances (examples, observations, etc.), and columns correspond to features of these instances."
   ]
  },
  {
   "cell_type": "code",
   "execution_count": 67,
   "metadata": {},
   "outputs": [],
   "source": [
    "# Importing the libraries\n",
    "import numpy as np\n",
    "import matplotlib.pyplot as plt\n",
    "import pandas as pd\n",
    "\n",
    "\n",
    "import seaborn as sns\n",
    "sns.set()  #  Will import Seaborn functionalities\n",
    "# we don't like warnings\n",
    "# you can comment the following 2 lines if you'd like to\n",
    "import warnings\n",
    "warnings.filterwarnings('ignore')"
   ]
  },
  {
   "cell_type": "markdown",
   "metadata": {},
   "source": [
    "\n",
    "We’ll demonstrate the main methods in action by analyzing a [dataset](https://bigml.com/user/francisco/gallery/dataset/5163ad540c0b5e5b22000383) on the churn rate of telecom operator clients. Let’s read the data (using `read_csv`), and take a look at the first 5 lines using the `head` method:\n"
   ]
  },
  {
   "cell_type": "code",
   "execution_count": 208,
   "metadata": {},
   "outputs": [],
   "source": [
    "# Disply all Columns\n",
    "pd.options.display.max_columns=70"
   ]
  },
  {
   "cell_type": "code",
   "execution_count": 209,
   "metadata": {},
   "outputs": [
    {
     "data": {
      "text/html": [
       "<div>\n",
       "<style scoped>\n",
       "    .dataframe tbody tr th:only-of-type {\n",
       "        vertical-align: middle;\n",
       "    }\n",
       "\n",
       "    .dataframe tbody tr th {\n",
       "        vertical-align: top;\n",
       "    }\n",
       "\n",
       "    .dataframe thead th {\n",
       "        text-align: right;\n",
       "    }\n",
       "</style>\n",
       "<table border=\"1\" class=\"dataframe\">\n",
       "  <thead>\n",
       "    <tr style=\"text-align: right;\">\n",
       "      <th></th>\n",
       "      <th>Unnamed: 0</th>\n",
       "      <th>months_as_customer</th>\n",
       "      <th>policy_deductable</th>\n",
       "      <th>policy_annual_premium</th>\n",
       "      <th>umbrella_limit</th>\n",
       "      <th>capital-gains</th>\n",
       "      <th>capital-loss</th>\n",
       "      <th>incident_hour_of_the_day</th>\n",
       "      <th>number_of_vehicles_involved</th>\n",
       "      <th>bodily_injuries</th>\n",
       "      <th>witnesses</th>\n",
       "      <th>vehicle_claim</th>\n",
       "      <th>auto_year</th>\n",
       "      <th>fraud_reported</th>\n",
       "      <th>policy_state_IN</th>\n",
       "      <th>policy_state_OH</th>\n",
       "      <th>policy_csl_250/500</th>\n",
       "      <th>policy_csl_500/1000</th>\n",
       "      <th>insured_sex_MALE</th>\n",
       "      <th>insured_education_level_College</th>\n",
       "      <th>insured_education_level_High School</th>\n",
       "      <th>insured_education_level_JD</th>\n",
       "      <th>insured_education_level_MD</th>\n",
       "      <th>insured_education_level_Masters</th>\n",
       "      <th>insured_education_level_PhD</th>\n",
       "      <th>insured_occupation_armed-forces</th>\n",
       "      <th>insured_occupation_craft-repair</th>\n",
       "      <th>insured_occupation_exec-managerial</th>\n",
       "      <th>insured_occupation_farming-fishing</th>\n",
       "      <th>insured_occupation_handlers-cleaners</th>\n",
       "      <th>insured_occupation_machine-op-inspct</th>\n",
       "      <th>insured_occupation_other-service</th>\n",
       "      <th>insured_occupation_priv-house-serv</th>\n",
       "      <th>insured_occupation_prof-specialty</th>\n",
       "      <th>insured_occupation_protective-serv</th>\n",
       "      <th>...</th>\n",
       "      <th>auto_model_A3</th>\n",
       "      <th>auto_model_A5</th>\n",
       "      <th>auto_model_Accord</th>\n",
       "      <th>auto_model_C300</th>\n",
       "      <th>auto_model_CRV</th>\n",
       "      <th>auto_model_Camry</th>\n",
       "      <th>auto_model_Civic</th>\n",
       "      <th>auto_model_Corolla</th>\n",
       "      <th>auto_model_E400</th>\n",
       "      <th>auto_model_Escape</th>\n",
       "      <th>auto_model_F150</th>\n",
       "      <th>auto_model_Forrestor</th>\n",
       "      <th>auto_model_Fusion</th>\n",
       "      <th>auto_model_Grand Cherokee</th>\n",
       "      <th>auto_model_Highlander</th>\n",
       "      <th>auto_model_Impreza</th>\n",
       "      <th>auto_model_Jetta</th>\n",
       "      <th>auto_model_Legacy</th>\n",
       "      <th>auto_model_M5</th>\n",
       "      <th>auto_model_MDX</th>\n",
       "      <th>auto_model_ML350</th>\n",
       "      <th>auto_model_Malibu</th>\n",
       "      <th>auto_model_Maxima</th>\n",
       "      <th>auto_model_Neon</th>\n",
       "      <th>auto_model_Passat</th>\n",
       "      <th>auto_model_Pathfinder</th>\n",
       "      <th>auto_model_RAM</th>\n",
       "      <th>auto_model_RSX</th>\n",
       "      <th>auto_model_Silverado</th>\n",
       "      <th>auto_model_TL</th>\n",
       "      <th>auto_model_Tahoe</th>\n",
       "      <th>auto_model_Ultima</th>\n",
       "      <th>auto_model_Wrangler</th>\n",
       "      <th>auto_model_X5</th>\n",
       "      <th>auto_model_X6</th>\n",
       "    </tr>\n",
       "  </thead>\n",
       "  <tbody>\n",
       "    <tr>\n",
       "      <th>0</th>\n",
       "      <td>0</td>\n",
       "      <td>328</td>\n",
       "      <td>1000</td>\n",
       "      <td>1406.91</td>\n",
       "      <td>0</td>\n",
       "      <td>53300</td>\n",
       "      <td>0</td>\n",
       "      <td>5</td>\n",
       "      <td>1</td>\n",
       "      <td>1</td>\n",
       "      <td>2</td>\n",
       "      <td>52080</td>\n",
       "      <td>2004</td>\n",
       "      <td>1</td>\n",
       "      <td>0</td>\n",
       "      <td>1</td>\n",
       "      <td>1</td>\n",
       "      <td>0</td>\n",
       "      <td>1</td>\n",
       "      <td>0</td>\n",
       "      <td>0</td>\n",
       "      <td>0</td>\n",
       "      <td>1</td>\n",
       "      <td>0</td>\n",
       "      <td>0</td>\n",
       "      <td>0</td>\n",
       "      <td>1</td>\n",
       "      <td>0</td>\n",
       "      <td>0</td>\n",
       "      <td>0</td>\n",
       "      <td>0</td>\n",
       "      <td>0</td>\n",
       "      <td>0</td>\n",
       "      <td>0</td>\n",
       "      <td>0</td>\n",
       "      <td>...</td>\n",
       "      <td>0</td>\n",
       "      <td>0</td>\n",
       "      <td>0</td>\n",
       "      <td>0</td>\n",
       "      <td>0</td>\n",
       "      <td>0</td>\n",
       "      <td>0</td>\n",
       "      <td>0</td>\n",
       "      <td>0</td>\n",
       "      <td>0</td>\n",
       "      <td>0</td>\n",
       "      <td>0</td>\n",
       "      <td>0</td>\n",
       "      <td>0</td>\n",
       "      <td>0</td>\n",
       "      <td>0</td>\n",
       "      <td>0</td>\n",
       "      <td>0</td>\n",
       "      <td>0</td>\n",
       "      <td>0</td>\n",
       "      <td>0</td>\n",
       "      <td>0</td>\n",
       "      <td>0</td>\n",
       "      <td>0</td>\n",
       "      <td>0</td>\n",
       "      <td>0</td>\n",
       "      <td>0</td>\n",
       "      <td>0</td>\n",
       "      <td>0</td>\n",
       "      <td>0</td>\n",
       "      <td>0</td>\n",
       "      <td>0</td>\n",
       "      <td>0</td>\n",
       "      <td>0</td>\n",
       "      <td>0</td>\n",
       "    </tr>\n",
       "    <tr>\n",
       "      <th>1</th>\n",
       "      <td>1</td>\n",
       "      <td>228</td>\n",
       "      <td>2000</td>\n",
       "      <td>1197.22</td>\n",
       "      <td>5000000</td>\n",
       "      <td>0</td>\n",
       "      <td>0</td>\n",
       "      <td>8</td>\n",
       "      <td>1</td>\n",
       "      <td>0</td>\n",
       "      <td>0</td>\n",
       "      <td>3510</td>\n",
       "      <td>2007</td>\n",
       "      <td>1</td>\n",
       "      <td>1</td>\n",
       "      <td>0</td>\n",
       "      <td>1</td>\n",
       "      <td>0</td>\n",
       "      <td>1</td>\n",
       "      <td>0</td>\n",
       "      <td>0</td>\n",
       "      <td>0</td>\n",
       "      <td>1</td>\n",
       "      <td>0</td>\n",
       "      <td>0</td>\n",
       "      <td>0</td>\n",
       "      <td>0</td>\n",
       "      <td>0</td>\n",
       "      <td>0</td>\n",
       "      <td>0</td>\n",
       "      <td>1</td>\n",
       "      <td>0</td>\n",
       "      <td>0</td>\n",
       "      <td>0</td>\n",
       "      <td>0</td>\n",
       "      <td>...</td>\n",
       "      <td>0</td>\n",
       "      <td>0</td>\n",
       "      <td>0</td>\n",
       "      <td>0</td>\n",
       "      <td>0</td>\n",
       "      <td>0</td>\n",
       "      <td>0</td>\n",
       "      <td>0</td>\n",
       "      <td>1</td>\n",
       "      <td>0</td>\n",
       "      <td>0</td>\n",
       "      <td>0</td>\n",
       "      <td>0</td>\n",
       "      <td>0</td>\n",
       "      <td>0</td>\n",
       "      <td>0</td>\n",
       "      <td>0</td>\n",
       "      <td>0</td>\n",
       "      <td>0</td>\n",
       "      <td>0</td>\n",
       "      <td>0</td>\n",
       "      <td>0</td>\n",
       "      <td>0</td>\n",
       "      <td>0</td>\n",
       "      <td>0</td>\n",
       "      <td>0</td>\n",
       "      <td>0</td>\n",
       "      <td>0</td>\n",
       "      <td>0</td>\n",
       "      <td>0</td>\n",
       "      <td>0</td>\n",
       "      <td>0</td>\n",
       "      <td>0</td>\n",
       "      <td>0</td>\n",
       "      <td>0</td>\n",
       "    </tr>\n",
       "    <tr>\n",
       "      <th>2</th>\n",
       "      <td>2</td>\n",
       "      <td>134</td>\n",
       "      <td>2000</td>\n",
       "      <td>1413.14</td>\n",
       "      <td>5000000</td>\n",
       "      <td>35100</td>\n",
       "      <td>0</td>\n",
       "      <td>7</td>\n",
       "      <td>3</td>\n",
       "      <td>2</td>\n",
       "      <td>3</td>\n",
       "      <td>23100</td>\n",
       "      <td>2007</td>\n",
       "      <td>0</td>\n",
       "      <td>0</td>\n",
       "      <td>1</td>\n",
       "      <td>0</td>\n",
       "      <td>0</td>\n",
       "      <td>0</td>\n",
       "      <td>0</td>\n",
       "      <td>0</td>\n",
       "      <td>0</td>\n",
       "      <td>0</td>\n",
       "      <td>0</td>\n",
       "      <td>1</td>\n",
       "      <td>0</td>\n",
       "      <td>0</td>\n",
       "      <td>0</td>\n",
       "      <td>0</td>\n",
       "      <td>0</td>\n",
       "      <td>0</td>\n",
       "      <td>0</td>\n",
       "      <td>0</td>\n",
       "      <td>0</td>\n",
       "      <td>0</td>\n",
       "      <td>...</td>\n",
       "      <td>0</td>\n",
       "      <td>0</td>\n",
       "      <td>0</td>\n",
       "      <td>0</td>\n",
       "      <td>0</td>\n",
       "      <td>0</td>\n",
       "      <td>0</td>\n",
       "      <td>0</td>\n",
       "      <td>0</td>\n",
       "      <td>0</td>\n",
       "      <td>0</td>\n",
       "      <td>0</td>\n",
       "      <td>0</td>\n",
       "      <td>0</td>\n",
       "      <td>0</td>\n",
       "      <td>0</td>\n",
       "      <td>0</td>\n",
       "      <td>0</td>\n",
       "      <td>0</td>\n",
       "      <td>0</td>\n",
       "      <td>0</td>\n",
       "      <td>0</td>\n",
       "      <td>0</td>\n",
       "      <td>0</td>\n",
       "      <td>0</td>\n",
       "      <td>0</td>\n",
       "      <td>1</td>\n",
       "      <td>0</td>\n",
       "      <td>0</td>\n",
       "      <td>0</td>\n",
       "      <td>0</td>\n",
       "      <td>0</td>\n",
       "      <td>0</td>\n",
       "      <td>0</td>\n",
       "      <td>0</td>\n",
       "    </tr>\n",
       "    <tr>\n",
       "      <th>3</th>\n",
       "      <td>3</td>\n",
       "      <td>256</td>\n",
       "      <td>2000</td>\n",
       "      <td>1415.74</td>\n",
       "      <td>6000000</td>\n",
       "      <td>48900</td>\n",
       "      <td>-62400</td>\n",
       "      <td>5</td>\n",
       "      <td>1</td>\n",
       "      <td>1</td>\n",
       "      <td>2</td>\n",
       "      <td>50720</td>\n",
       "      <td>2014</td>\n",
       "      <td>1</td>\n",
       "      <td>0</td>\n",
       "      <td>0</td>\n",
       "      <td>1</td>\n",
       "      <td>0</td>\n",
       "      <td>0</td>\n",
       "      <td>0</td>\n",
       "      <td>0</td>\n",
       "      <td>0</td>\n",
       "      <td>0</td>\n",
       "      <td>0</td>\n",
       "      <td>1</td>\n",
       "      <td>1</td>\n",
       "      <td>0</td>\n",
       "      <td>0</td>\n",
       "      <td>0</td>\n",
       "      <td>0</td>\n",
       "      <td>0</td>\n",
       "      <td>0</td>\n",
       "      <td>0</td>\n",
       "      <td>0</td>\n",
       "      <td>0</td>\n",
       "      <td>...</td>\n",
       "      <td>0</td>\n",
       "      <td>0</td>\n",
       "      <td>0</td>\n",
       "      <td>0</td>\n",
       "      <td>0</td>\n",
       "      <td>0</td>\n",
       "      <td>0</td>\n",
       "      <td>0</td>\n",
       "      <td>0</td>\n",
       "      <td>0</td>\n",
       "      <td>0</td>\n",
       "      <td>0</td>\n",
       "      <td>0</td>\n",
       "      <td>0</td>\n",
       "      <td>0</td>\n",
       "      <td>0</td>\n",
       "      <td>0</td>\n",
       "      <td>0</td>\n",
       "      <td>0</td>\n",
       "      <td>0</td>\n",
       "      <td>0</td>\n",
       "      <td>0</td>\n",
       "      <td>0</td>\n",
       "      <td>0</td>\n",
       "      <td>0</td>\n",
       "      <td>0</td>\n",
       "      <td>0</td>\n",
       "      <td>0</td>\n",
       "      <td>0</td>\n",
       "      <td>0</td>\n",
       "      <td>1</td>\n",
       "      <td>0</td>\n",
       "      <td>0</td>\n",
       "      <td>0</td>\n",
       "      <td>0</td>\n",
       "    </tr>\n",
       "    <tr>\n",
       "      <th>4</th>\n",
       "      <td>4</td>\n",
       "      <td>228</td>\n",
       "      <td>1000</td>\n",
       "      <td>1583.91</td>\n",
       "      <td>6000000</td>\n",
       "      <td>66000</td>\n",
       "      <td>-46000</td>\n",
       "      <td>20</td>\n",
       "      <td>1</td>\n",
       "      <td>0</td>\n",
       "      <td>1</td>\n",
       "      <td>4550</td>\n",
       "      <td>2009</td>\n",
       "      <td>0</td>\n",
       "      <td>0</td>\n",
       "      <td>0</td>\n",
       "      <td>0</td>\n",
       "      <td>1</td>\n",
       "      <td>1</td>\n",
       "      <td>0</td>\n",
       "      <td>0</td>\n",
       "      <td>0</td>\n",
       "      <td>0</td>\n",
       "      <td>0</td>\n",
       "      <td>0</td>\n",
       "      <td>0</td>\n",
       "      <td>0</td>\n",
       "      <td>0</td>\n",
       "      <td>0</td>\n",
       "      <td>0</td>\n",
       "      <td>0</td>\n",
       "      <td>0</td>\n",
       "      <td>0</td>\n",
       "      <td>0</td>\n",
       "      <td>0</td>\n",
       "      <td>...</td>\n",
       "      <td>0</td>\n",
       "      <td>0</td>\n",
       "      <td>0</td>\n",
       "      <td>0</td>\n",
       "      <td>0</td>\n",
       "      <td>0</td>\n",
       "      <td>0</td>\n",
       "      <td>0</td>\n",
       "      <td>0</td>\n",
       "      <td>0</td>\n",
       "      <td>0</td>\n",
       "      <td>0</td>\n",
       "      <td>0</td>\n",
       "      <td>0</td>\n",
       "      <td>0</td>\n",
       "      <td>0</td>\n",
       "      <td>0</td>\n",
       "      <td>0</td>\n",
       "      <td>0</td>\n",
       "      <td>0</td>\n",
       "      <td>0</td>\n",
       "      <td>0</td>\n",
       "      <td>0</td>\n",
       "      <td>0</td>\n",
       "      <td>0</td>\n",
       "      <td>0</td>\n",
       "      <td>0</td>\n",
       "      <td>1</td>\n",
       "      <td>0</td>\n",
       "      <td>0</td>\n",
       "      <td>0</td>\n",
       "      <td>0</td>\n",
       "      <td>0</td>\n",
       "      <td>0</td>\n",
       "      <td>0</td>\n",
       "    </tr>\n",
       "  </tbody>\n",
       "</table>\n",
       "<p>5 rows × 136 columns</p>\n",
       "</div>"
      ],
      "text/plain": [
       "   Unnamed: 0  months_as_customer  policy_deductable  policy_annual_premium  \\\n",
       "0           0                 328               1000                1406.91   \n",
       "1           1                 228               2000                1197.22   \n",
       "2           2                 134               2000                1413.14   \n",
       "3           3                 256               2000                1415.74   \n",
       "4           4                 228               1000                1583.91   \n",
       "\n",
       "   umbrella_limit  capital-gains  capital-loss  incident_hour_of_the_day  \\\n",
       "0               0          53300             0                         5   \n",
       "1         5000000              0             0                         8   \n",
       "2         5000000          35100             0                         7   \n",
       "3         6000000          48900        -62400                         5   \n",
       "4         6000000          66000        -46000                        20   \n",
       "\n",
       "   number_of_vehicles_involved  bodily_injuries  witnesses  vehicle_claim  \\\n",
       "0                            1                1          2          52080   \n",
       "1                            1                0          0           3510   \n",
       "2                            3                2          3          23100   \n",
       "3                            1                1          2          50720   \n",
       "4                            1                0          1           4550   \n",
       "\n",
       "   auto_year  fraud_reported  policy_state_IN  policy_state_OH  \\\n",
       "0       2004               1                0                1   \n",
       "1       2007               1                1                0   \n",
       "2       2007               0                0                1   \n",
       "3       2014               1                0                0   \n",
       "4       2009               0                0                0   \n",
       "\n",
       "   policy_csl_250/500  policy_csl_500/1000  insured_sex_MALE  \\\n",
       "0                   1                    0                 1   \n",
       "1                   1                    0                 1   \n",
       "2                   0                    0                 0   \n",
       "3                   1                    0                 0   \n",
       "4                   0                    1                 1   \n",
       "\n",
       "   insured_education_level_College  insured_education_level_High School  \\\n",
       "0                                0                                    0   \n",
       "1                                0                                    0   \n",
       "2                                0                                    0   \n",
       "3                                0                                    0   \n",
       "4                                0                                    0   \n",
       "\n",
       "   insured_education_level_JD  insured_education_level_MD  \\\n",
       "0                           0                           1   \n",
       "1                           0                           1   \n",
       "2                           0                           0   \n",
       "3                           0                           0   \n",
       "4                           0                           0   \n",
       "\n",
       "   insured_education_level_Masters  insured_education_level_PhD  \\\n",
       "0                                0                            0   \n",
       "1                                0                            0   \n",
       "2                                0                            1   \n",
       "3                                0                            1   \n",
       "4                                0                            0   \n",
       "\n",
       "   insured_occupation_armed-forces  insured_occupation_craft-repair  \\\n",
       "0                                0                                1   \n",
       "1                                0                                0   \n",
       "2                                0                                0   \n",
       "3                                1                                0   \n",
       "4                                0                                0   \n",
       "\n",
       "   insured_occupation_exec-managerial  insured_occupation_farming-fishing  \\\n",
       "0                                   0                                   0   \n",
       "1                                   0                                   0   \n",
       "2                                   0                                   0   \n",
       "3                                   0                                   0   \n",
       "4                                   0                                   0   \n",
       "\n",
       "   insured_occupation_handlers-cleaners  insured_occupation_machine-op-inspct  \\\n",
       "0                                     0                                     0   \n",
       "1                                     0                                     1   \n",
       "2                                     0                                     0   \n",
       "3                                     0                                     0   \n",
       "4                                     0                                     0   \n",
       "\n",
       "   insured_occupation_other-service  insured_occupation_priv-house-serv  \\\n",
       "0                                 0                                   0   \n",
       "1                                 0                                   0   \n",
       "2                                 0                                   0   \n",
       "3                                 0                                   0   \n",
       "4                                 0                                   0   \n",
       "\n",
       "   insured_occupation_prof-specialty  insured_occupation_protective-serv  ...  \\\n",
       "0                                  0                                   0  ...   \n",
       "1                                  0                                   0  ...   \n",
       "2                                  0                                   0  ...   \n",
       "3                                  0                                   0  ...   \n",
       "4                                  0                                   0  ...   \n",
       "\n",
       "   auto_model_A3  auto_model_A5  auto_model_Accord  auto_model_C300  \\\n",
       "0              0              0                  0                0   \n",
       "1              0              0                  0                0   \n",
       "2              0              0                  0                0   \n",
       "3              0              0                  0                0   \n",
       "4              0              0                  0                0   \n",
       "\n",
       "   auto_model_CRV  auto_model_Camry  auto_model_Civic  auto_model_Corolla  \\\n",
       "0               0                 0                 0                   0   \n",
       "1               0                 0                 0                   0   \n",
       "2               0                 0                 0                   0   \n",
       "3               0                 0                 0                   0   \n",
       "4               0                 0                 0                   0   \n",
       "\n",
       "   auto_model_E400  auto_model_Escape  auto_model_F150  auto_model_Forrestor  \\\n",
       "0                0                  0                0                     0   \n",
       "1                1                  0                0                     0   \n",
       "2                0                  0                0                     0   \n",
       "3                0                  0                0                     0   \n",
       "4                0                  0                0                     0   \n",
       "\n",
       "   auto_model_Fusion  auto_model_Grand Cherokee  auto_model_Highlander  \\\n",
       "0                  0                          0                      0   \n",
       "1                  0                          0                      0   \n",
       "2                  0                          0                      0   \n",
       "3                  0                          0                      0   \n",
       "4                  0                          0                      0   \n",
       "\n",
       "   auto_model_Impreza  auto_model_Jetta  auto_model_Legacy  auto_model_M5  \\\n",
       "0                   0                 0                  0              0   \n",
       "1                   0                 0                  0              0   \n",
       "2                   0                 0                  0              0   \n",
       "3                   0                 0                  0              0   \n",
       "4                   0                 0                  0              0   \n",
       "\n",
       "   auto_model_MDX  auto_model_ML350  auto_model_Malibu  auto_model_Maxima  \\\n",
       "0               0                 0                  0                  0   \n",
       "1               0                 0                  0                  0   \n",
       "2               0                 0                  0                  0   \n",
       "3               0                 0                  0                  0   \n",
       "4               0                 0                  0                  0   \n",
       "\n",
       "   auto_model_Neon  auto_model_Passat  auto_model_Pathfinder  auto_model_RAM  \\\n",
       "0                0                  0                      0               0   \n",
       "1                0                  0                      0               0   \n",
       "2                0                  0                      0               1   \n",
       "3                0                  0                      0               0   \n",
       "4                0                  0                      0               0   \n",
       "\n",
       "   auto_model_RSX  auto_model_Silverado  auto_model_TL  auto_model_Tahoe  \\\n",
       "0               0                     0              0                 0   \n",
       "1               0                     0              0                 0   \n",
       "2               0                     0              0                 0   \n",
       "3               0                     0              0                 1   \n",
       "4               1                     0              0                 0   \n",
       "\n",
       "   auto_model_Ultima  auto_model_Wrangler  auto_model_X5  auto_model_X6  \n",
       "0                  0                    0              0              0  \n",
       "1                  0                    0              0              0  \n",
       "2                  0                    0              0              0  \n",
       "3                  0                    0              0              0  \n",
       "4                  0                    0              0              0  \n",
       "\n",
       "[5 rows x 136 columns]"
      ]
     },
     "execution_count": 209,
     "metadata": {},
     "output_type": "execute_result"
    }
   ],
   "source": [
    "autinsurance = pd.read_csv('insurance_claimsV3.csv')\n",
    "autinsurance.head()"
   ]
  },
  {
   "cell_type": "code",
   "execution_count": 210,
   "metadata": {},
   "outputs": [],
   "source": [
    "autinsurance = autinsurance.drop('Unnamed: 0', axis = 1)"
   ]
  },
  {
   "cell_type": "code",
   "execution_count": 211,
   "metadata": {},
   "outputs": [
    {
     "name": "stdout",
     "output_type": "stream",
     "text": [
      "<class 'pandas.core.frame.DataFrame'>\n",
      "RangeIndex: 1000 entries, 0 to 999\n",
      "Columns: 135 entries, months_as_customer to auto_model_X6\n",
      "dtypes: float64(1), int64(134)\n",
      "memory usage: 1.0 MB\n"
     ]
    }
   ],
   "source": [
    "autinsurance.info()"
   ]
  },
  {
   "cell_type": "code",
   "execution_count": 212,
   "metadata": {},
   "outputs": [
    {
     "data": {
      "text/plain": [
       "0    753\n",
       "1    247\n",
       "Name: fraud_reported, dtype: int64"
      ]
     },
     "execution_count": 212,
     "metadata": {},
     "output_type": "execute_result"
    }
   ],
   "source": [
    "autinsurance['fraud_reported'].value_counts()"
   ]
  },
  {
   "cell_type": "markdown",
   "metadata": {},
   "source": [
    "753 users out of 247 are *loyal*; their `Fraud` value is `0`. To calculate fractions, pass `normalize=True` to the `value_counts` function."
   ]
  },
  {
   "cell_type": "code",
   "execution_count": 213,
   "metadata": {},
   "outputs": [
    {
     "data": {
      "text/plain": [
       "0    0.753\n",
       "1    0.247\n",
       "Name: fraud_reported, dtype: float64"
      ]
     },
     "execution_count": 213,
     "metadata": {},
     "output_type": "execute_result"
    }
   ],
   "source": [
    "autinsurance['fraud_reported'].value_counts(normalize=True)"
   ]
  },
  {
   "cell_type": "code",
   "execution_count": 214,
   "metadata": {},
   "outputs": [
    {
     "data": {
      "image/png": "[encoded data removed]",
      "text/plain": [
       "<Figure size 576x432 with 1 Axes>"
      ]
     },
     "metadata": {},
     "output_type": "display_data"
    }
   ],
   "source": [
    "(autinsurance['fraud_reported'].value_counts().plot(\n",
    "        kind='bar',\n",
    "        figsize=(8, 6),\n",
    "        title='Distribution of Target Variable',\n",
    "    )\n",
    ");\n",
    "plt.show()"
   ]
  },
  {
   "cell_type": "markdown",
   "metadata": {},
   "source": [
    "<a id=\"III\"></a>\n",
    "# Data Pre-processing &  Preparation"
   ]
  },
  {
   "cell_type": "markdown",
   "metadata": {},
   "source": [
    "###  Dealing with Missing Values\n",
    "\n",
    "#### Delete a column"
   ]
  },
  {
   "cell_type": "code",
   "execution_count": 215,
   "metadata": {},
   "outputs": [
    {
     "data": {
      "text/plain": [
       "months_as_customer                        0\n",
       "policy_deductable                         0\n",
       "policy_annual_premium                     0\n",
       "umbrella_limit                            0\n",
       "capital-gains                             0\n",
       "capital-loss                              0\n",
       "incident_hour_of_the_day                  0\n",
       "number_of_vehicles_involved               0\n",
       "bodily_injuries                           0\n",
       "witnesses                                 0\n",
       "vehicle_claim                             0\n",
       "auto_year                                 0\n",
       "fraud_reported                            0\n",
       "policy_state_IN                           0\n",
       "policy_state_OH                           0\n",
       "policy_csl_250/500                        0\n",
       "policy_csl_500/1000                       0\n",
       "insured_sex_MALE                          0\n",
       "insured_education_level_College           0\n",
       "insured_education_level_High School       0\n",
       "insured_education_level_JD                0\n",
       "insured_education_level_MD                0\n",
       "insured_education_level_Masters           0\n",
       "insured_education_level_PhD               0\n",
       "insured_occupation_armed-forces           0\n",
       "insured_occupation_craft-repair           0\n",
       "insured_occupation_exec-managerial        0\n",
       "insured_occupation_farming-fishing        0\n",
       "insured_occupation_handlers-cleaners      0\n",
       "insured_occupation_machine-op-inspct      0\n",
       "insured_occupation_other-service          0\n",
       "insured_occupation_priv-house-serv        0\n",
       "insured_occupation_prof-specialty         0\n",
       "insured_occupation_protective-serv        0\n",
       "insured_occupation_sales                  0\n",
       "insured_occupation_tech-support           0\n",
       "insured_occupation_transport-moving       0\n",
       "insured_hobbies_basketball                0\n",
       "insured_hobbies_board-games               0\n",
       "insured_hobbies_bungie-jumping            0\n",
       "insured_hobbies_camping                   0\n",
       "insured_hobbies_chess                     0\n",
       "insured_hobbies_cross-fit                 0\n",
       "insured_hobbies_dancing                   0\n",
       "insured_hobbies_exercise                  0\n",
       "insured_hobbies_golf                      0\n",
       "insured_hobbies_hiking                    0\n",
       "insured_hobbies_kayaking                  0\n",
       "insured_hobbies_movies                    0\n",
       "insured_hobbies_paintball                 0\n",
       "insured_hobbies_polo                      0\n",
       "insured_hobbies_reading                   0\n",
       "insured_hobbies_skydiving                 0\n",
       "insured_hobbies_sleeping                  0\n",
       "insured_hobbies_video-games               0\n",
       "insured_hobbies_yachting                  0\n",
       "insured_relationship_not-in-family        0\n",
       "insured_relationship_other-relative       0\n",
       "insured_relationship_own-child            0\n",
       "insured_relationship_unmarried            0\n",
       "insured_relationship_wife                 0\n",
       "incident_type_Parked Car                  0\n",
       "incident_type_Single Vehicle Collision    0\n",
       "incident_type_Vehicle Theft               0\n",
       "collision_type_Rear Collision             0\n",
       "collision_type_Side Collision             0\n",
       "collision_type_Unknown                    0\n",
       "incident_severity_Minor Damage            0\n",
       "incident_severity_Total Loss              0\n",
       "incident_severity_Trivial Damage          0\n",
       "authorities_contacted_Fire                0\n",
       "authorities_contacted_None                0\n",
       "authorities_contacted_Other               0\n",
       "authorities_contacted_Police              0\n",
       "incident_state_NY                         0\n",
       "incident_state_OH                         0\n",
       "incident_state_PA                         0\n",
       "incident_state_SC                         0\n",
       "incident_state_VA                         0\n",
       "incident_state_WV                         0\n",
       "property_damage_Unknown                   0\n",
       "property_damage_YES                       0\n",
       "police_report_available_Unknown           0\n",
       "police_report_available_YES               0\n",
       "auto_make_Audi                            0\n",
       "auto_make_BMW                             0\n",
       "auto_make_Chevrolet                       0\n",
       "auto_make_Dodge                           0\n",
       "auto_make_Ford                            0\n",
       "auto_make_Honda                           0\n",
       "auto_make_Jeep                            0\n",
       "auto_make_Mercedes                        0\n",
       "auto_make_Nissan                          0\n",
       "auto_make_Saab                            0\n",
       "auto_make_Suburu                          0\n",
       "auto_make_Toyota                          0\n",
       "auto_make_Volkswagen                      0\n",
       "auto_model_92x                            0\n",
       "auto_model_93                             0\n",
       "auto_model_95                             0\n",
       "auto_model_A3                             0\n",
       "auto_model_A5                             0\n",
       "auto_model_Accord                         0\n",
       "auto_model_C300                           0\n",
       "auto_model_CRV                            0\n",
       "auto_model_Camry                          0\n",
       "auto_model_Civic                          0\n",
       "auto_model_Corolla                        0\n",
       "auto_model_E400                           0\n",
       "auto_model_Escape                         0\n",
       "auto_model_F150                           0\n",
       "auto_model_Forrestor                      0\n",
       "auto_model_Fusion                         0\n",
       "auto_model_Grand Cherokee                 0\n",
       "auto_model_Highlander                     0\n",
       "auto_model_Impreza                        0\n",
       "auto_model_Jetta                          0\n",
       "auto_model_Legacy                         0\n",
       "auto_model_M5                             0\n",
       "auto_model_MDX                            0\n",
       "auto_model_ML350                          0\n",
       "auto_model_Malibu                         0\n",
       "auto_model_Maxima                         0\n",
       "auto_model_Neon                           0\n",
       "auto_model_Passat                         0\n",
       "auto_model_Pathfinder                     0\n",
       "auto_model_RAM                            0\n",
       "auto_model_RSX                            0\n",
       "auto_model_Silverado                      0\n",
       "auto_model_TL                             0\n",
       "auto_model_Tahoe                          0\n",
       "auto_model_Ultima                         0\n",
       "auto_model_Wrangler                       0\n",
       "auto_model_X5                             0\n",
       "auto_model_X6                             0\n",
       "dtype: int64"
      ]
     },
     "execution_count": 215,
     "metadata": {},
     "output_type": "execute_result"
    }
   ],
   "source": [
    "# Disply all Columns\n",
    "pd.options.display.max_rows=170\n",
    "\n",
    "# Finding missing values\n",
    "\n",
    "autinsurance.isna().sum()\n"
   ]
  },
  {
   "cell_type": "markdown",
   "metadata": {},
   "source": [
    "#### Delete rows with NaN values\n",
    "\n",
    "Once you have figured out all the missing details, we remove all the missing rows from the DataFrame. To do so, we use the dropna() function:\n"
   ]
  },
  {
   "cell_type": "code",
   "execution_count": 30,
   "metadata": {},
   "outputs": [],
   "source": [
    "# removing Null values\n",
    "\n",
    "autinsurance = autinsurance.dropna()"
   ]
  },
  {
   "cell_type": "code",
   "execution_count": 31,
   "metadata": {},
   "outputs": [
    {
     "name": "stdout",
     "output_type": "stream",
     "text": [
      "<class 'pandas.core.frame.DataFrame'>\n",
      "Int64Index: 1000 entries, 0 to 999\n",
      "Columns: 135 entries, months_as_customer to auto_model_X6\n",
      "dtypes: float64(1), int64(134)\n",
      "memory usage: 1.0 MB\n"
     ]
    }
   ],
   "source": [
    "autinsurance.info()"
   ]
  },
  {
   "cell_type": "code",
   "execution_count": 32,
   "metadata": {},
   "outputs": [
    {
     "data": {
      "text/plain": [
       "\"autinsurance.drop('age', axis=1, inplace=True)\\nprint(autinsurance.shape)\\nautinsurance.head(10)\""
      ]
     },
     "execution_count": 32,
     "metadata": {},
     "output_type": "execute_result"
    }
   ],
   "source": [
    "# Delete a column\n",
    "'''autinsurance.drop('age', axis=1, inplace=True)\n",
    "print(autinsurance.shape)\n",
    "autinsurance.head(10)'''"
   ]
  },
  {
   "cell_type": "code",
   "execution_count": null,
   "metadata": {},
   "outputs": [],
   "source": [
    "# Delete rows with NaN values\n",
    "\n",
    "'''print(autinsurance.shape)\n",
    "autinsurance[['property_damage']] = autinsurance[['property_damage']].replace('?', numpy.NaN)\n",
    "autinsurance.dropna(axis=0, how='any', inplace=True)\n",
    "print(data2.shape)'''\n"
   ]
  },
  {
   "cell_type": "markdown",
   "metadata": {},
   "source": [
    "#### Mark value as NaN"
   ]
  },
  {
   "cell_type": "code",
   "execution_count": 1,
   "metadata": {},
   "outputs": [
    {
     "data": {
      "text/plain": [
       "\"\\nprint(pd.unique(autinsurance['property_damage']))\\n\\nautinsurance[['property_damage']] = autinsurance[['property_damage']].replace('?', np.NaN)\\nprint(pd.unique(autinsurance['property_damage']))\\n\\nprint(pd.unique(autinsurance['property_damage']))\""
      ]
     },
     "execution_count": 1,
     "metadata": {},
     "output_type": "execute_result"
    }
   ],
   "source": [
    "# Mark value as NaN\n",
    "'''\n",
    "print(pd.unique(autinsurance['property_damage']))\n",
    "\n",
    "autinsurance[['property_damage']] = autinsurance[['property_damage']].replace('?', np.NaN)\n",
    "print(pd.unique(autinsurance['property_damage']))\n",
    "\n",
    "print(pd.unique(autinsurance['property_damage']))'''"
   ]
  },
  {
   "cell_type": "markdown",
   "metadata": {},
   "source": [
    "#### Impute missing values \n",
    "\n",
    "Impute the numerical data of the age column with its mean. To do so, first find the mean of the column with missing values using the mean() function of pandas, and then print it  \n",
    "\n",
    "\n"
   ]
  },
  {
   "cell_type": "code",
   "execution_count": 35,
   "metadata": {},
   "outputs": [
    {
     "data": {
      "text/plain": [
       "Index(['policy_deductable', 'policy_annual_premium', 'umbrella_limit',\n",
       "       'capital_gains', 'capital_loss', 'incident_hour_of_the_day',\n",
       "       'number_of_vehicles_involved', 'bodily_injuries', 'witnesses',\n",
       "       'vehicle_claim',\n",
       "       ...\n",
       "       'auto_model_Pathfinder', 'auto_model_RAM', 'auto_model_RSX',\n",
       "       'auto_model_Silverado', 'auto_model_TL', 'auto_model_Tahoe',\n",
       "       'auto_model_Ultima', 'auto_model_Wrangler', 'auto_model_X5',\n",
       "       'auto_model_X6'],\n",
       "      dtype='object', length=134)"
      ]
     },
     "execution_count": 35,
     "metadata": {},
     "output_type": "execute_result"
    }
   ],
   "source": [
    "autinsurance.columns"
   ]
  },
  {
   "cell_type": "code",
   "execution_count": 19,
   "metadata": {},
   "outputs": [
    {
     "name": "stdout",
     "output_type": "stream",
     "text": [
      "199.0\n"
     ]
    }
   ],
   "source": [
    "# Impute numerical data with mean '\n",
    "mean_months_as_customer = autinsurance.months_as_customer.median()\n",
    "print(mean_months_as_customer)\n",
    "\n",
    "\n",
    "autinsurance.months_as_customer.fillna(mean_months_as_customer, inplace=True)"
   ]
  },
  {
   "cell_type": "markdown",
   "metadata": {},
   "source": [
    "We couild also impute the categorical data  with its mode. We first need to find the mode "
   ]
  },
  {
   "cell_type": "code",
   "execution_count": null,
   "metadata": {},
   "outputs": [],
   "source": [
    "'''# Impute Categorical data with mode\n",
    "mode_Gender = autinsurance.insured_sex.mode()[0]\n",
    "print(mode_Gender)\n",
    "\n",
    "# Impute the missing data of the contact column with its mode using the fillna() function\n",
    "autinsurance.insured_sex.fillna(mode_Gender,inplace=True)'''"
   ]
  },
  {
   "cell_type": "markdown",
   "metadata": {},
   "source": [
    "##### Splitting data - on whether or not \"Age\" is specified."
   ]
  },
  {
   "cell_type": "code",
   "execution_count": null,
   "metadata": {},
   "outputs": [],
   "source": [
    "'''### Splitting data - on whether or not \"Age\" is specified.\n",
    "\n",
    "# Training data -- \"Age\" Not null; \"Age\" as target\n",
    "train = titanic_knn[titanic_knn.Age.notnull()]\n",
    "X_train = train.drop(['Age'], axis = 1)\n",
    "y_train = train.Age'''"
   ]
  },
  {
   "cell_type": "markdown",
   "metadata": {},
   "source": [
    "##### Data to impute, -- Where Age is null; Remove completely-null \"Age\" column."
   ]
  },
  {
   "cell_type": "code",
   "execution_count": null,
   "metadata": {},
   "outputs": [],
   "source": [
    "'''# Data to impute, -- Where Age is null; Remove completely-null \"Age\" column.\n",
    "impute = titanic_knn[titanic_knn.Age.isnull()].drop(['Age'], axis = 1)\n",
    "print(\"Data to Impute\")\n",
    "print(impute.head(3))'''"
   ]
  },
  {
   "cell_type": "markdown",
   "metadata": {},
   "source": [
    "##### import algorithm"
   ]
  },
  {
   "cell_type": "code",
   "execution_count": null,
   "metadata": {},
   "outputs": [],
   "source": [
    "# import algorithm\n",
    "'''from sklearn.neighbors import KNeighborsRegressor\n",
    "\n",
    "# Instantiate\n",
    "knr = KNeighborsRegressor()\n",
    "\n",
    "# Fit\n",
    "knr.fit(X_train, y_train)\n",
    "\n",
    "# Create Predictions\n",
    "imputed_ages = knr.predict(impute)'''"
   ]
  },
  {
   "cell_type": "markdown",
   "metadata": {},
   "source": [
    "##### Add to Df"
   ]
  },
  {
   "cell_type": "code",
   "execution_count": 2,
   "metadata": {},
   "outputs": [
    {
     "data": {
      "text/plain": [
       "'# Add to Df\\nimpute[\\'Age\\'] = imputed_ages\\nprint(\"\\nImputed Ages\")\\nprint(impute.head(3))'"
      ]
     },
     "execution_count": 2,
     "metadata": {},
     "output_type": "execute_result"
    }
   ],
   "source": [
    "'''# Add to Df\n",
    "impute['Age'] = imputed_ages\n",
    "print(\"\\nImputed Ages\")\n",
    "print(impute.head(3))'''"
   ]
  },
  {
   "cell_type": "markdown",
   "metadata": {},
   "source": [
    "##### Re-combine dataframes"
   ]
  },
  {
   "cell_type": "code",
   "execution_count": null,
   "metadata": {},
   "outputs": [],
   "source": [
    "'''# Re-combine dataframes\n",
    "titanic_imputed = pd.concat([train, impute], sort = False, axis = 0)'''"
   ]
  },
  {
   "cell_type": "markdown",
   "metadata": {},
   "source": [
    "##### Return to original order - to match back up with \"Survived\""
   ]
  },
  {
   "cell_type": "code",
   "execution_count": null,
   "metadata": {},
   "outputs": [],
   "source": [
    "'''# Return to original order - to match back up with \"Survived\"\n",
    "titanic_imputed.sort_index(inplace = True)\n",
    "print(\"Shape with imputed values:\", titanic_imputed.shape)\n",
    "print(\"Shape before imputation:\", titanic_knn.shape)\n",
    "titanic_imputed.head(7)'''"
   ]
  },
  {
   "cell_type": "markdown",
   "metadata": {},
   "source": [
    "###  Finding and Fixing Outliers"
   ]
  },
  {
   "cell_type": "code",
   "execution_count": 41,
   "metadata": {},
   "outputs": [
    {
     "data": {
      "text/html": [
       "<div>\n",
       "<style scoped>\n",
       "    .dataframe tbody tr th:only-of-type {\n",
       "        vertical-align: middle;\n",
       "    }\n",
       "\n",
       "    .dataframe tbody tr th {\n",
       "        vertical-align: top;\n",
       "    }\n",
       "\n",
       "    .dataframe thead th {\n",
       "        text-align: right;\n",
       "    }\n",
       "</style>\n",
       "<table border=\"1\" class=\"dataframe\">\n",
       "  <thead>\n",
       "    <tr style=\"text-align: right;\">\n",
       "      <th></th>\n",
       "      <th>months_as_customer</th>\n",
       "      <th>policy_bind_date</th>\n",
       "      <th>policy_state</th>\n",
       "      <th>policy_csl</th>\n",
       "      <th>policy_deductable</th>\n",
       "      <th>policy_annual_premium</th>\n",
       "      <th>umbrella_limit</th>\n",
       "      <th>insured_zip</th>\n",
       "      <th>insured_sex</th>\n",
       "      <th>insured_education_level</th>\n",
       "      <th>insured_occupation</th>\n",
       "      <th>insured_hobbies</th>\n",
       "      <th>insured_relationship</th>\n",
       "      <th>capital_gains</th>\n",
       "      <th>capital_loss</th>\n",
       "      <th>incident_date</th>\n",
       "      <th>incident_type</th>\n",
       "      <th>collision_type</th>\n",
       "      <th>incident_severity</th>\n",
       "      <th>authorities_contacted</th>\n",
       "      <th>incident_state</th>\n",
       "      <th>incident_city</th>\n",
       "      <th>incident_hour_of_the_day</th>\n",
       "      <th>number_of_vehicles_involved</th>\n",
       "      <th>property_damage</th>\n",
       "      <th>bodily_injuries</th>\n",
       "      <th>witnesses</th>\n",
       "      <th>police_report_available</th>\n",
       "      <th>vehicle_claim</th>\n",
       "      <th>auto_make</th>\n",
       "      <th>auto_model</th>\n",
       "      <th>auto_year</th>\n",
       "      <th>fraud_reported</th>\n",
       "    </tr>\n",
       "  </thead>\n",
       "  <tbody>\n",
       "    <tr>\n",
       "      <th>0</th>\n",
       "      <td>NaN</td>\n",
       "      <td>10/17/2014</td>\n",
       "      <td>OH</td>\n",
       "      <td>250/500</td>\n",
       "      <td>1000</td>\n",
       "      <td>1406.91</td>\n",
       "      <td>0</td>\n",
       "      <td>466132</td>\n",
       "      <td>MALE</td>\n",
       "      <td>MD</td>\n",
       "      <td>craft-repair</td>\n",
       "      <td>sleeping</td>\n",
       "      <td>husband</td>\n",
       "      <td>53300</td>\n",
       "      <td>0</td>\n",
       "      <td>1/25/2015</td>\n",
       "      <td>Single Vehicle Collision</td>\n",
       "      <td>Side Collision</td>\n",
       "      <td>Major Damage</td>\n",
       "      <td>Police</td>\n",
       "      <td>SC</td>\n",
       "      <td>Columbus</td>\n",
       "      <td>5</td>\n",
       "      <td>1</td>\n",
       "      <td>YES</td>\n",
       "      <td>1</td>\n",
       "      <td>2</td>\n",
       "      <td>YES</td>\n",
       "      <td>52080</td>\n",
       "      <td>Saab</td>\n",
       "      <td>92x</td>\n",
       "      <td>2004</td>\n",
       "      <td>1</td>\n",
       "    </tr>\n",
       "    <tr>\n",
       "      <th>1</th>\n",
       "      <td>228.0</td>\n",
       "      <td>6/27/2006</td>\n",
       "      <td>IN</td>\n",
       "      <td>250/500</td>\n",
       "      <td>2000</td>\n",
       "      <td>1197.22</td>\n",
       "      <td>5000000</td>\n",
       "      <td>468176</td>\n",
       "      <td>MALE</td>\n",
       "      <td>MD</td>\n",
       "      <td>machine-op-inspct</td>\n",
       "      <td>reading</td>\n",
       "      <td>other-relative</td>\n",
       "      <td>0</td>\n",
       "      <td>0</td>\n",
       "      <td>1/21/2015</td>\n",
       "      <td>Vehicle Theft</td>\n",
       "      <td>?</td>\n",
       "      <td>Minor Damage</td>\n",
       "      <td>Police</td>\n",
       "      <td>VA</td>\n",
       "      <td>Riverwood</td>\n",
       "      <td>8</td>\n",
       "      <td>1</td>\n",
       "      <td>?</td>\n",
       "      <td>0</td>\n",
       "      <td>0</td>\n",
       "      <td>?</td>\n",
       "      <td>3510</td>\n",
       "      <td>Mercedes</td>\n",
       "      <td>E400</td>\n",
       "      <td>2007</td>\n",
       "      <td>1</td>\n",
       "    </tr>\n",
       "    <tr>\n",
       "      <th>2</th>\n",
       "      <td>134.0</td>\n",
       "      <td>9/6/2000</td>\n",
       "      <td>OH</td>\n",
       "      <td>100/300</td>\n",
       "      <td>2000</td>\n",
       "      <td>1413.14</td>\n",
       "      <td>5000000</td>\n",
       "      <td>430632</td>\n",
       "      <td>FEMALE</td>\n",
       "      <td>PhD</td>\n",
       "      <td>sales</td>\n",
       "      <td>board-games</td>\n",
       "      <td>own-child</td>\n",
       "      <td>35100</td>\n",
       "      <td>0</td>\n",
       "      <td>2/22/2015</td>\n",
       "      <td>Multi-vehicle Collision</td>\n",
       "      <td>Rear Collision</td>\n",
       "      <td>Minor Damage</td>\n",
       "      <td>Police</td>\n",
       "      <td>NY</td>\n",
       "      <td>Columbus</td>\n",
       "      <td>7</td>\n",
       "      <td>3</td>\n",
       "      <td>NO</td>\n",
       "      <td>2</td>\n",
       "      <td>3</td>\n",
       "      <td>NO</td>\n",
       "      <td>23100</td>\n",
       "      <td>Dodge</td>\n",
       "      <td>RAM</td>\n",
       "      <td>2007</td>\n",
       "      <td>0</td>\n",
       "    </tr>\n",
       "    <tr>\n",
       "      <th>3</th>\n",
       "      <td>256.0</td>\n",
       "      <td>5/25/1990</td>\n",
       "      <td>IL</td>\n",
       "      <td>250/500</td>\n",
       "      <td>2000</td>\n",
       "      <td>1415.74</td>\n",
       "      <td>6000000</td>\n",
       "      <td>608117</td>\n",
       "      <td>FEMALE</td>\n",
       "      <td>PhD</td>\n",
       "      <td>armed-forces</td>\n",
       "      <td>board-games</td>\n",
       "      <td>unmarried</td>\n",
       "      <td>48900</td>\n",
       "      <td>-62400</td>\n",
       "      <td>1/10/2015</td>\n",
       "      <td>Single Vehicle Collision</td>\n",
       "      <td>Front Collision</td>\n",
       "      <td>Major Damage</td>\n",
       "      <td>Police</td>\n",
       "      <td>OH</td>\n",
       "      <td>Arlington</td>\n",
       "      <td>5</td>\n",
       "      <td>1</td>\n",
       "      <td>?</td>\n",
       "      <td>1</td>\n",
       "      <td>2</td>\n",
       "      <td>NO</td>\n",
       "      <td>50720</td>\n",
       "      <td>Chevrolet</td>\n",
       "      <td>Tahoe</td>\n",
       "      <td>2014</td>\n",
       "      <td>1</td>\n",
       "    </tr>\n",
       "    <tr>\n",
       "      <th>4</th>\n",
       "      <td>228.0</td>\n",
       "      <td>6/6/2014</td>\n",
       "      <td>IL</td>\n",
       "      <td>500/1000</td>\n",
       "      <td>1000</td>\n",
       "      <td>1583.91</td>\n",
       "      <td>6000000</td>\n",
       "      <td>610706</td>\n",
       "      <td>MALE</td>\n",
       "      <td>Associate</td>\n",
       "      <td>sales</td>\n",
       "      <td>board-games</td>\n",
       "      <td>unmarried</td>\n",
       "      <td>66000</td>\n",
       "      <td>-46000</td>\n",
       "      <td>2/17/2015</td>\n",
       "      <td>Vehicle Theft</td>\n",
       "      <td>?</td>\n",
       "      <td>Minor Damage</td>\n",
       "      <td>None</td>\n",
       "      <td>NY</td>\n",
       "      <td>Arlington</td>\n",
       "      <td>20</td>\n",
       "      <td>1</td>\n",
       "      <td>NO</td>\n",
       "      <td>0</td>\n",
       "      <td>1</td>\n",
       "      <td>NO</td>\n",
       "      <td>4550</td>\n",
       "      <td>Accura</td>\n",
       "      <td>RSX</td>\n",
       "      <td>2009</td>\n",
       "      <td>0</td>\n",
       "    </tr>\n",
       "  </tbody>\n",
       "</table>\n",
       "</div>"
      ],
      "text/plain": [
       "   months_as_customer policy_bind_date policy_state policy_csl  \\\n",
       "0                 NaN       10/17/2014           OH    250/500   \n",
       "1               228.0        6/27/2006           IN    250/500   \n",
       "2               134.0         9/6/2000           OH    100/300   \n",
       "3               256.0        5/25/1990           IL    250/500   \n",
       "4               228.0         6/6/2014           IL   500/1000   \n",
       "\n",
       "   policy_deductable  policy_annual_premium  umbrella_limit  insured_zip  \\\n",
       "0               1000                1406.91               0       466132   \n",
       "1               2000                1197.22         5000000       468176   \n",
       "2               2000                1413.14         5000000       430632   \n",
       "3               2000                1415.74         6000000       608117   \n",
       "4               1000                1583.91         6000000       610706   \n",
       "\n",
       "  insured_sex insured_education_level insured_occupation insured_hobbies  \\\n",
       "0        MALE                      MD       craft-repair        sleeping   \n",
       "1        MALE                      MD  machine-op-inspct         reading   \n",
       "2      FEMALE                     PhD              sales     board-games   \n",
       "3      FEMALE                     PhD       armed-forces     board-games   \n",
       "4        MALE               Associate              sales     board-games   \n",
       "\n",
       "  insured_relationship  capital_gains  capital_loss incident_date  \\\n",
       "0              husband          53300             0     1/25/2015   \n",
       "1       other-relative              0             0     1/21/2015   \n",
       "2            own-child          35100             0     2/22/2015   \n",
       "3            unmarried          48900        -62400     1/10/2015   \n",
       "4            unmarried          66000        -46000     2/17/2015   \n",
       "\n",
       "              incident_type   collision_type incident_severity  \\\n",
       "0  Single Vehicle Collision   Side Collision      Major Damage   \n",
       "1             Vehicle Theft                ?      Minor Damage   \n",
       "2   Multi-vehicle Collision   Rear Collision      Minor Damage   \n",
       "3  Single Vehicle Collision  Front Collision      Major Damage   \n",
       "4             Vehicle Theft                ?      Minor Damage   \n",
       "\n",
       "  authorities_contacted incident_state incident_city  \\\n",
       "0                Police             SC      Columbus   \n",
       "1                Police             VA     Riverwood   \n",
       "2                Police             NY      Columbus   \n",
       "3                Police             OH     Arlington   \n",
       "4                  None             NY     Arlington   \n",
       "\n",
       "   incident_hour_of_the_day  number_of_vehicles_involved property_damage  \\\n",
       "0                         5                            1             YES   \n",
       "1                         8                            1               ?   \n",
       "2                         7                            3              NO   \n",
       "3                         5                            1               ?   \n",
       "4                        20                            1              NO   \n",
       "\n",
       "   bodily_injuries  witnesses police_report_available  vehicle_claim  \\\n",
       "0                1          2                     YES          52080   \n",
       "1                0          0                       ?           3510   \n",
       "2                2          3                      NO          23100   \n",
       "3                1          2                      NO          50720   \n",
       "4                0          1                      NO           4550   \n",
       "\n",
       "   auto_make auto_model  auto_year  fraud_reported  \n",
       "0       Saab        92x       2004               1  \n",
       "1   Mercedes       E400       2007               1  \n",
       "2      Dodge        RAM       2007               0  \n",
       "3  Chevrolet      Tahoe       2014               1  \n",
       "4     Accura        RSX       2009               0  "
      ]
     },
     "execution_count": 41,
     "metadata": {},
     "output_type": "execute_result"
    }
   ],
   "source": [
    "autinsurance.head()"
   ]
  },
  {
   "cell_type": "markdown",
   "metadata": {},
   "source": [
    "### Boxplot"
   ]
  },
  {
   "cell_type": "code",
   "execution_count": 25,
   "metadata": {
    "scrolled": true
   },
   "outputs": [
    {
     "data": {
      "text/plain": [
       "<matplotlib.axes._subplots.AxesSubplot at 0x17c75b7aa20>"
      ]
     },
     "execution_count": 25,
     "metadata": {},
     "output_type": "execute_result"
    },
    {
     "data": {
      "image/png": "[encoded data removed]",
      "text/plain": [
       "<Figure size 576x288 with 1 Axes>"
      ]
     },
     "metadata": {},
     "output_type": "display_data"
    }
   ],
   "source": [
    "# Boxplots\n",
    "# Horizontal boxplot with observations\n",
    "plt.rcParams['figure.figsize'] = 8,4\n",
    "sns.boxplot(autinsurance['months_as_customer'])"
   ]
  },
  {
   "cell_type": "code",
   "execution_count": 44,
   "metadata": {},
   "outputs": [
    {
     "data": {
      "text/plain": [
       "count    1000.000000\n",
       "mean     1256.406150\n",
       "std       244.167395\n",
       "min       433.330000\n",
       "25%      1089.607500\n",
       "50%      1257.200000\n",
       "75%      1415.695000\n",
       "max      2047.590000\n",
       "Name: policy_annual_premium, dtype: float64"
      ]
     },
     "execution_count": 44,
     "metadata": {},
     "output_type": "execute_result"
    }
   ],
   "source": [
    "autinsurance['policy_annual_premium'].describe()"
   ]
  },
  {
   "cell_type": "markdown",
   "metadata": {},
   "source": [
    "### IQR score -"
   ]
  },
  {
   "cell_type": "markdown",
   "metadata": {},
   "source": [
    "<h4>Examine the distribution of the data in column 4</h4>"
   ]
  },
  {
   "cell_type": "markdown",
   "metadata": {},
   "source": [
    "<li>Quartile 1: from 18 to 32\n",
    "<li>Quartile 2: from 32 to 37\n",
    "<li>Quartile 3: from 37 to 44\n",
    "<li>Quartile 4: from 44 to 92\n",
    "\n",
    "<h4>Quartile 4 is much larger than the other quartiles. This raises the possibility of outliers</h4>"
   ]
  },
  {
   "cell_type": "markdown",
   "metadata": {},
   "source": [
    "<h4> A Quantile - Quantile (qq) plot can help identify outliers</h4>\n",
    "<li>y-axis contains values\n",
    "<li>x-axis is the cumulative normal density function plotted as a straight line (-3 to +3)\n",
    "<li>y-axis is the values ordered from lowest to highest\n",
    "<li>the closer the curve is to the line, the more it reflects a normal distribution"
   ]
  },
  {
   "cell_type": "code",
   "execution_count": 45,
   "metadata": {},
   "outputs": [
    {
     "data": {
      "image/png": "[encoded data removed]",
      "text/plain": [
       "<Figure size 432x288 with 1 Axes>"
      ]
     },
     "metadata": {
      "needs_background": "light"
     },
     "output_type": "display_data"
    }
   ],
   "source": [
    "import numpy as np \n",
    "import pylab \n",
    "import scipy.stats as stats\n",
    "import matplotlib\n",
    "import matplotlib.pyplot as plt\n",
    "matplotlib.style.use('ggplot')\n",
    "%matplotlib inline\n",
    "   \n",
    "stats.probplot(autinsurance['policy_annual_premium'], dist=\"norm\", plot=pylab)\n",
    "pylab.show()"
   ]
  },
  {
   "cell_type": "markdown",
   "metadata": {},
   "source": [
    "The height of the histogram bars here is normed and shows the density rather than the number of examples in each bin.\n",
    "\n",
    "##### Box plot\n",
    "\n",
    "Another useful type of visualization is a *box plot*. `seaborn` does a great job here:"
   ]
  },
  {
   "cell_type": "code",
   "execution_count": null,
   "metadata": {},
   "outputs": [],
   "source": [
    "plt.rcParams['figure.figsize'] = 4,8\n",
    "sns.boxplot(x='months_as_customer', data=autinsurance, orient = 'v');\n"
   ]
  },
  {
   "cell_type": "markdown",
   "metadata": {},
   "source": [
    "The boxplot uses the IQR method to display the data and the outliers (the shape of the data). But in order to print an outlier, we use a mathematical formula to retrieve it. Add the following code to find the outliers of the Age column using the IQR method:"
   ]
  },
  {
   "cell_type": "code",
   "execution_count": null,
   "metadata": {},
   "outputs": [],
   "source": [
    "Q1 = autinsurance[\"months_as_customer\"].quantile(0.25)\n",
    "\n",
    "Q3 = autinsurance[\"months_as_customer\"].quantile(0.75)\n",
    "\n",
    "IQR = Q3 - Q1\n",
    "\n",
    "print(IQR)"
   ]
  },
  {
   "cell_type": "markdown",
   "metadata": {},
   "source": [
    "Now we find the upper fence and lower fence by adding the following code, and print all the data above the upper fence and below the lower fence. Add the following code to do this:"
   ]
  },
  {
   "cell_type": "code",
   "execution_count": null,
   "metadata": {},
   "outputs": [],
   "source": [
    "Lower_Fence = Q1 - (1.5 * IQR)\n",
    "\n",
    "Upper_Fence = Q3 + (1.5 * IQR)\n",
    "\n",
    "print(Lower_Fence)\n",
    "\n",
    "print(Upper_Fence)"
   ]
  },
  {
   "cell_type": "code",
   "execution_count": null,
   "metadata": {},
   "outputs": [],
   "source": [
    "#Filter out the outlier data and print only the potential data. To do so, just negate the preceding result using the ~ operator:\n",
    "au_copy = autinsurance.copy()\n",
    "au_copy[((au_copy[\"months_as_customer\"] < Lower_Fence) |(au_copy[\"months_as_customer\"] > Upper_Fence))].head()\n"
   ]
  },
  {
   "cell_type": "markdown",
   "metadata": {},
   "source": [
    "Filter out the outlier data and print only the potential data. To do so, just negate the preceding result using the ~ operator:"
   ]
  },
  {
   "cell_type": "code",
   "execution_count": null,
   "metadata": {},
   "outputs": [],
   "source": [
    "au_copy = au_copy[~((au_copy [\"months_as_customer\"] < Lower_Fence) |(au_copy[\"months_as_customer\"] > Upper_Fence))]\n",
    "au_copy.head()"
   ]
  },
  {
   "cell_type": "code",
   "execution_count": null,
   "metadata": {},
   "outputs": [],
   "source": [
    "# Test if outliers are fixed\n",
    "\n",
    "plt.rcParams['figure.figsize'] = 4,8\n",
    "sns.boxplot(x='months_as_customer', data=au_copy, orient = 'v');\n"
   ]
  },
  {
   "cell_type": "markdown",
   "metadata": {},
   "source": [
    "### Z-score"
   ]
  },
  {
   "cell_type": "markdown",
   "metadata": {},
   "source": [
    "The Z-score is the signed number of standard deviations by which the value of an observation or data point is above the mean value of what is being observed or measured. \n",
    "\n",
    "The intuition behind Z-score is to describe any data point by finding their relationship with the Standard Deviation and Mean of the group of data points. Z-score is finding the distribution of data where mean is 0 and standard deviation is 1 i.e. normal distribution.  \n",
    "\n",
    "You must be wondering that, how does this help in identifying the outliers? Well, while calculating the Z-score we re-scale and center the data and look for data points which are too far from zero. These data points which are way too far from zero will be treated as the outliers. In most of the cases a threshold of 3 or -3 is used i.e if the Z-score value is greater than or less than 3 or -3 respectively, that data point will be identified as outliers."
   ]
  },
  {
   "cell_type": "code",
   "execution_count": 33,
   "metadata": {},
   "outputs": [
    {
     "name": "stdout",
     "output_type": "stream",
     "text": [
      "[[1.07813958 0.22238259 0.61670461 ... 0.20938323 0.15343224 0.12751534]\n",
      " [0.2089946  1.41278352 0.24252118 ... 0.20938323 0.15343224 0.12751534]\n",
      " [0.60800168 1.41278352 0.64223266 ... 0.20938323 0.15343224 0.12751534]\n",
      " ...\n",
      " [0.64276748 1.03996564 0.52073881 ... 0.20938323 0.15343224 0.12751534]\n",
      " [2.20802805 1.41278352 0.41186558 ... 0.20938323 0.15343224 0.12751534]\n",
      " [2.19064515 0.22238259 2.00870981 ... 0.20938323 0.15343224 0.12751534]]\n"
     ]
    }
   ],
   "source": [
    "from scipy import stats\n",
    "import numpy as np\n",
    "\n",
    "autinsurance_num = autinsurance.select_dtypes(include=[np.number])\n",
    "\n",
    "z = np.abs(stats.zscore(autinsurance_num))\n",
    "print(z)"
   ]
  },
  {
   "cell_type": "code",
   "execution_count": null,
   "metadata": {},
   "outputs": [],
   "source": [
    "autinsurance_num.head()"
   ]
  },
  {
   "cell_type": "markdown",
   "metadata": {},
   "source": [
    "Looking the code and the output above, it is difficult to say which data point is an outlier. Let’s try and define a threshold to identify an outlier.\n",
    "threshold = 3"
   ]
  },
  {
   "cell_type": "code",
   "execution_count": 48,
   "metadata": {},
   "outputs": [
    {
     "data": {
      "text/plain": [
       "(array([ 31,  48,  88, 115, 119, 229, 248, 262, 314, 430, 458, 503, 657,\n",
       "        700, 763, 807, 875, 922, 975], dtype=int64),\n",
       " array([3, 3, 3, 3, 3, 2, 2, 3, 3, 3, 3, 3, 3, 3, 2, 6, 3, 3, 3],\n",
       "       dtype=int64))"
      ]
     },
     "execution_count": 48,
     "metadata": {},
     "output_type": "execute_result"
    }
   ],
   "source": [
    "outliers = np.where(z > 3)\n",
    "outliers"
   ]
  },
  {
   "cell_type": "markdown",
   "metadata": {},
   "source": [
    "Don’t be confused by the results. The first array contains the list of row numbers and second array respective column numbers, which mean z[31][1] have a Z-score higher than 3."
   ]
  },
  {
   "cell_type": "code",
   "execution_count": null,
   "metadata": {},
   "outputs": [],
   "source": [
    "print(z[31][1])"
   ]
  },
  {
   "cell_type": "markdown",
   "metadata": {},
   "source": [
    "## Feature Selection"
   ]
  },
  {
   "cell_type": "markdown",
   "metadata": {},
   "source": [
    "#### Standardize data (0 mean, 1 stdev)"
   ]
  },
  {
   "cell_type": "code",
   "execution_count": 75,
   "metadata": {},
   "outputs": [
    {
     "data": {
      "text/plain": [
       "'# Feature Importance with Extra Trees Classifier\\nfrom pandas import read_csv\\nfrom sklearn.ensemble import ExtraTreesClassifier\\n\\narray = Bchurn.values\\nX = array[:,0:8]\\nY = array[:,8]\\n\\n# feature extraction\\nmodel = ExtraTreesClassifier()\\nmodel.fit(X, Y)\\nprint(model.feature_importances_)\\n'"
      ]
     },
     "execution_count": 75,
     "metadata": {},
     "output_type": "execute_result"
    }
   ],
   "source": [
    "'''# Feature Importance with Extra Trees Classifier\n",
    "from pandas import read_csv\n",
    "from sklearn.ensemble import ExtraTreesClassifier\n",
    "\n",
    "array = Bchurn.values\n",
    "X = array[:,0:8]\n",
    "Y = array[:,8]\n",
    "\n",
    "# feature extraction\n",
    "model = ExtraTreesClassifier()\n",
    "model.fit(X, Y)\n",
    "print(model.feature_importances_)\n",
    "'''"
   ]
  },
  {
   "cell_type": "markdown",
   "metadata": {},
   "source": [
    "#### Identify Features with Low Variance"
   ]
  },
  {
   "cell_type": "code",
   "execution_count": 76,
   "metadata": {},
   "outputs": [
    {
     "data": {
      "text/plain": [
       "'# Identify Features with Low Variance\\nfrom pandas import read_csv\\nfrom sklearn.feature_selection import VarianceThreshold\\n# load data\\narray = Bchurn.values\\nX = array[:,0:8]\\nY = array[:,8]\\n# feature selection\\nthreshold = 0.8 * (1 - 0.8)\\ntest = VarianceThreshold(threshold)\\nfit = test.fit(X)\\nprint(fit.variances_)\\nfeatures = fit.transform(X)\\nprint(features)\\n'"
      ]
     },
     "execution_count": 76,
     "metadata": {},
     "output_type": "execute_result"
    }
   ],
   "source": [
    "'''# Identify Features with Low Variance\n",
    "from pandas import read_csv\n",
    "from sklearn.feature_selection import VarianceThreshold\n",
    "# load data\n",
    "array = Bchurn.values\n",
    "X = array[:,0:8]\n",
    "Y = array[:,8]\n",
    "# feature selection\n",
    "threshold = 0.8 * (1 - 0.8)\n",
    "test = VarianceThreshold(threshold)\n",
    "fit = test.fit(X)\n",
    "print(fit.variances_)\n",
    "features = fit.transform(X)\n",
    "print(features)\n",
    "'''"
   ]
  },
  {
   "cell_type": "markdown",
   "metadata": {},
   "source": [
    "#### Feature Extraction with PCA"
   ]
  },
  {
   "cell_type": "code",
   "execution_count": 77,
   "metadata": {},
   "outputs": [
    {
     "data": {
      "text/plain": [
       "'# Feature Extraction with PCA\\nimport numpy\\nfrom pandas import read_csv\\nfrom sklearn.decomposition import PCA\\n# load data\\narray = Bchurn.values\\nX = array[:,0:8]\\nY = array[:,8]\\n# feature extraction\\npca = PCA(n_components=3)\\nfit = pca.fit(X)\\n# summarize components\\nprint(\"Explained Variance: %s\") % fit.explained_variance_ratio_\\nprint(fit.components_)\\n'"
      ]
     },
     "execution_count": 77,
     "metadata": {},
     "output_type": "execute_result"
    }
   ],
   "source": [
    "'''# Feature Extraction with PCA\n",
    "import numpy\n",
    "from pandas import read_csv\n",
    "from sklearn.decomposition import PCA\n",
    "# load data\n",
    "array = Bchurn.values\n",
    "X = array[:,0:8]\n",
    "Y = array[:,8]\n",
    "# feature extraction\n",
    "pca = PCA(n_components=3)\n",
    "fit = pca.fit(X)\n",
    "# summarize components\n",
    "print(\"Explained Variance: %s\") % fit.explained_variance_ratio_\n",
    "print(fit.components_)\n",
    "'''"
   ]
  },
  {
   "cell_type": "markdown",
   "metadata": {},
   "source": [
    "#### Feature Extraction with Recursive Feature Elimination (REF)"
   ]
  },
  {
   "cell_type": "code",
   "execution_count": 78,
   "metadata": {},
   "outputs": [
    {
     "data": {
      "text/plain": [
       "'# Feature Extraction with RFE\\nfrom pandas import read_csv\\nfrom sklearn.feature_selection import RFE\\nfrom sklearn.linear_model import LogisticRegression\\n# load data\\narray = Bchurn.values\\nX = array[:,0:8]\\nY = array[:,8]\\n# feature extraction\\nmodel = LogisticRegression()\\nrfe = RFE(model, 3)\\nfit = rfe.fit(X, Y)\\nprint ()\"Num Features: %d\" % fit.n_features_\\nprint(\"Selected Features: %s\") % fit.support_)\\nprint(\"Feature Ranking: %s\") % fit.ranking_\\n'"
      ]
     },
     "execution_count": 78,
     "metadata": {},
     "output_type": "execute_result"
    }
   ],
   "source": [
    "'''# Feature Extraction with RFE\n",
    "from pandas import read_csv\n",
    "from sklearn.feature_selection import RFE\n",
    "from sklearn.linear_model import LogisticRegression\n",
    "# load data\n",
    "array = Bchurn.values\n",
    "X = array[:,0:8]\n",
    "Y = array[:,8]\n",
    "# feature extraction\n",
    "model = LogisticRegression()\n",
    "rfe = RFE(model, 3)\n",
    "fit = rfe.fit(X, Y)\n",
    "print ()\"Num Features: %d\" % fit.n_features_\n",
    "print(\"Selected Features: %s\") % fit.support_)\n",
    "print(\"Feature Ranking: %s\") % fit.ranking_\n",
    "'''"
   ]
  },
  {
   "cell_type": "markdown",
   "metadata": {},
   "source": [
    "#### Feature Extraction with Univariate Statistical Tests (Chi-squared for classification)"
   ]
  },
  {
   "cell_type": "code",
   "execution_count": 79,
   "metadata": {},
   "outputs": [
    {
     "data": {
      "text/plain": [
       "'# Feature Extraction with Univariate Statistical Tests (Chi-squared for classification)\\n\\nfrom sklearn.feature_selection import SelectKBest\\nfrom sklearn.feature_selection import chi2\\n# load data\\narray = Bchurn.values\\nX = array[:,0:8]\\nY = array[:,8]\\n# feature extraction\\ntest = SelectKBest(score_func=chi2, k=4)\\nfit = test.fit(X, Y)\\n# summarize scores\\nnumpy.set_printoptions(precision=3)\\nprint(fit.scores_)\\nfeatures = fit.transform(X)\\n# summarize selected features\\nprint(features[0:5,:])\\n\\n'"
      ]
     },
     "execution_count": 79,
     "metadata": {},
     "output_type": "execute_result"
    }
   ],
   "source": [
    "'''# Feature Extraction with Univariate Statistical Tests (Chi-squared for classification)\n",
    "\n",
    "from sklearn.feature_selection import SelectKBest\n",
    "from sklearn.feature_selection import chi2\n",
    "# load data\n",
    "array = Bchurn.values\n",
    "X = array[:,0:8]\n",
    "Y = array[:,8]\n",
    "# feature extraction\n",
    "test = SelectKBest(score_func=chi2, k=4)\n",
    "fit = test.fit(X, Y)\n",
    "# summarize scores\n",
    "numpy.set_printoptions(precision=3)\n",
    "print(fit.scores_)\n",
    "features = fit.transform(X)\n",
    "# summarize selected features\n",
    "print(features[0:5,:])\n",
    "\n",
    "'''"
   ]
  },
  {
   "cell_type": "markdown",
   "metadata": {},
   "source": [
    "#### MinMaxScaler\n",
    "\n",
    "When using a Box-Cox transformation, you usually need to include another preprocessing step before it.\n",
    "* One of the requirements for the Box-Cox transformation is that your data **must be positive**.\n",
    "* You'll get an error if you try to apply to features with negative values.\n",
    "\n",
    "<pre style=\"color:crimson\">\n",
    "ValueError: Data must be positive.\n",
    "</pre>\n",
    "\n",
    "(Feel free to try it on your own)\n",
    "\n",
    "<br>\n",
    "Therefore, we should scale our data beforehand. \n",
    "* However, <code style=\"color:steelblue\">StandardScaler</code> doesn't solve the problem because it scales features to make them centered around 0, which means you'll still have negative values.\n",
    "* That's where <code style=\"color:steelblue\">MinMaxScaler</code> comes in. With this transformer, you can scale each feature to a designated **feature range**.\n",
    "\n",
    "Here's how we'd create the entire model pipeline:'''"
   ]
  },
  {
   "cell_type": "code",
   "execution_count": 80,
   "metadata": {},
   "outputs": [
    {
     "data": {
      "text/plain": [
       "'from sklearn.naive_bayes import GaussianNB\\n\\n# Min-Max scaler (slightly different than StandardScaler!)\\nfrom sklearn.preprocessing import MinMaxScaler\\n\\n\\nNBModel = GaussianNB()\\nNBModel.fit(X_train, y_train)'"
      ]
     },
     "execution_count": 80,
     "metadata": {},
     "output_type": "execute_result"
    }
   ],
   "source": [
    "# Fitting Naive Bayes to the Training set\n",
    "'''from sklearn.naive_bayes import GaussianNB\n",
    "\n",
    "# Min-Max scaler (slightly different than StandardScaler!)\n",
    "from sklearn.preprocessing import MinMaxScaler\n",
    "\n",
    "\n",
    "NBModel = GaussianNB()\n",
    "NBModel.fit(X_train, y_train)'''"
   ]
  },
  {
   "cell_type": "markdown",
   "metadata": {},
   "source": [
    "##### Collinear Features\n",
    "Collinear features are features that are highly correlated with one another. In machine learning, these lead to decreased generalization performance on the test set due to high variance and less model interpretability.\n",
    "The identify_collinear method finds collinear features based on a specified correlation coefficient value. For each pair of correlated features, it identifies one of the features for removal (since we only need to remove one):\n"
   ]
  },
  {
   "cell_type": "code",
   "execution_count": 138,
   "metadata": {},
   "outputs": [
    {
     "data": {
      "text/plain": [
       "'# Create correlation matrix\\nau_copy = autinsurance.copy()\\ncorr_matrix = au_copy.corr().abs()\\n\\n# Select upper triangle of correlation matrix\\nupper = corr_matrix.where(np.triu(np.ones(corr_matrix.shape), k=1).astype(np.bool))\\n\\n# Find index of feature columns with correlation greater than 0.95\\nto_drop = [column for column in upper.columns if any(upper[column] > 0.7)]'"
      ]
     },
     "execution_count": 138,
     "metadata": {},
     "output_type": "execute_result"
    }
   ],
   "source": [
    "'''# Create correlation matrix\n",
    "au_copy = autinsurance.copy()\n",
    "corr_matrix = au_copy.corr().abs()\n",
    "\n",
    "# Select upper triangle of correlation matrix\n",
    "upper = corr_matrix.where(np.triu(np.ones(corr_matrix.shape), k=1).astype(np.bool))\n",
    "\n",
    "# Find index of feature columns with correlation greater than 0.95\n",
    "to_drop = [column for column in upper.columns if any(upper[column] > 0.7)]'''"
   ]
  },
  {
   "cell_type": "code",
   "execution_count": 139,
   "metadata": {},
   "outputs": [
    {
     "data": {
      "text/plain": [
       "'au_copy[to_drop].corr()'"
      ]
     },
     "execution_count": 139,
     "metadata": {},
     "output_type": "execute_result"
    }
   ],
   "source": [
    "'''au_copy[to_drop].corr()'''"
   ]
  },
  {
   "cell_type": "code",
   "execution_count": 140,
   "metadata": {},
   "outputs": [
    {
     "data": {
      "text/plain": [
       "'corr_matrix.head(100)'"
      ]
     },
     "execution_count": 140,
     "metadata": {},
     "output_type": "execute_result"
    }
   ],
   "source": [
    "'''corr_matrix.head(100)'''"
   ]
  },
  {
   "cell_type": "code",
   "execution_count": 141,
   "metadata": {},
   "outputs": [
    {
     "data": {
      "text/plain": [
       "'au_copy.drop(au_copy[to_drop], axis=1)'"
      ]
     },
     "execution_count": 141,
     "metadata": {},
     "output_type": "execute_result"
    }
   ],
   "source": [
    "# Drop features \n",
    "'''au_copy.drop(au_copy[to_drop], axis=1)'''"
   ]
  },
  {
   "cell_type": "code",
   "execution_count": 142,
   "metadata": {},
   "outputs": [
    {
     "data": {
      "text/plain": [
       "<matplotlib.axes._subplots.AxesSubplot at 0x17c7670b898>"
      ]
     },
     "execution_count": 142,
     "metadata": {},
     "output_type": "execute_result"
    },
    {
     "data": {
      "image/png": "[encoded data removed]",
      "text/plain": [
       "<Figure size 2160x1440 with 1 Axes>"
      ]
     },
     "metadata": {},
     "output_type": "display_data"
    }
   ],
   "source": [
    "# Correlation with Target Variable\n",
    "\n",
    "corr_matrix = au_copy.corr().abs()\n",
    "\n",
    "\n",
    "plt.figure(figsize=(30,20))\n",
    "au_copy.corr()['fraud_reported'].plot()\n",
    "#autinsurance.corr()[:].plot()\n",
    "#autinsurance.corr().plot()"
   ]
  },
  {
   "cell_type": "code",
   "execution_count": 143,
   "metadata": {},
   "outputs": [
    {
     "data": {
      "text/plain": [
       "fraud_reported                            1.000000\n",
       "insured_hobbies_chess                     0.294851\n",
       "insured_hobbies_cross-fit                 0.218968\n",
       "vehicle_claim                             0.170049\n",
       "collision_type_Rear Collision             0.096262\n",
       "incident_type_Single Vehicle Collision    0.082534\n",
       "authorities_contacted_Other               0.082010\n",
       "insured_occupation_exec-managerial        0.080746\n",
       "property_damage_Unknown                   0.068017\n",
       "incident_state_OH                         0.066808\n",
       "incident_state_SC                         0.063057\n",
       "umbrella_limit                            0.058622\n",
       "auto_model_Silverado                      0.056371\n",
       "auto_model_X6                             0.056326\n",
       "auto_make_Mercedes                        0.055917\n",
       "number_of_vehicles_involved               0.051839\n",
       "auto_model_ML350                          0.050681\n",
       "insured_relationship_other-relative       0.050310\n",
       "witnesses                                 0.049497\n",
       "auto_model_F150                           0.047653\n",
       "auto_model_Tahoe                          0.046542\n",
       "auto_model_C300                           0.044543\n",
       "auto_model_A5                             0.040789\n",
       "auto_model_Civic                          0.040563\n",
       "auto_model_RAM                            0.038624\n",
       "auto_make_Ford                            0.037819\n",
       "auto_make_Audi                            0.036201\n",
       "bodily_injuries                           0.033877\n",
       "insured_occupation_craft-repair           0.032969\n",
       "insured_sex_MALE                          0.030873\n",
       "insured_hobbies_yachting                  0.030108\n",
       "insured_occupation_farming-fishing        0.030108\n",
       "insured_occupation_transport-moving       0.028849\n",
       "authorities_contacted_Fire                0.027401\n",
       "policy_csl_250/500                        0.025763\n",
       "auto_model_M5                             0.024704\n",
       "insured_relationship_wife                 0.023802\n",
       "insured_occupation_tech-support           0.023640\n",
       "insured_hobbies_board-games               0.023256\n",
       "police_report_available_Unknown           0.020901\n",
       "months_as_customer                        0.020544\n",
       "auto_model_X5                             0.020403\n",
       "auto_make_Volkswagen                      0.020300\n",
       "auto_make_BMW                             0.019878\n",
       "policy_state_OH                           0.019692\n",
       "auto_make_Chevrolet                       0.019495\n",
       "insured_occupation_sales                  0.019495\n",
       "auto_model_Impreza                        0.017556\n",
       "property_damage_YES                       0.017202\n",
       "auto_model_Jetta                          0.017096\n",
       "auto_model_Maxima                         0.016241\n",
       "insured_education_level_MD                0.016062\n",
       "insured_hobbies_polo                      0.015240\n",
       "auto_model_92x                            0.015236\n",
       "auto_model_Forrestor                      0.015236\n",
       "insured_education_level_PhD               0.014899\n",
       "policy_deductable                         0.014817\n",
       "insured_education_level_JD                0.014088\n",
       "insured_education_level_College           0.013220\n",
       "auto_model_Fusion                         0.013148\n",
       "insured_relationship_not-in-family        0.012367\n",
       "policy_state_IN                           0.012183\n",
       "insured_hobbies_reading                   0.011293\n",
       "auto_model_Passat                         0.011020\n",
       "auto_model_A3                             0.010577\n",
       "collision_type_Side Collision             0.009482\n",
       "auto_model_Highlander                     0.008947\n",
       "incident_state_PA                         0.008020\n",
       "auto_year                                 0.007928\n",
       "auto_model_E400                           0.004735\n",
       "incident_hour_of_the_day                  0.004316\n",
       "auto_make_Honda                           0.004221\n",
       "auto_make_Dodge                           0.002051\n",
       "auto_model_Escape                         0.001091\n",
       "insured_occupation_armed-forces          -0.000393\n",
       "auto_model_Grand Cherokee                -0.002599\n",
       "auto_model_Accord                        -0.004319\n",
       "insured_relationship_unmarried           -0.005510\n",
       "auto_make_Suburu                         -0.006496\n",
       "insured_occupation_machine-op-inspct     -0.007752\n",
       "insured_hobbies_hiking                   -0.008814\n",
       "insured_hobbies_paintball                -0.010792\n",
       "auto_model_MDX                           -0.011103\n",
       "insured_hobbies_skydiving                -0.011848\n",
       "policy_annual_premium                    -0.014480\n",
       "capital-loss                             -0.014863\n",
       "insured_occupation_protective-serv       -0.014898\n",
       "auto_make_Saab                           -0.015043\n",
       "auto_model_TL                            -0.015569\n",
       "incident_state_VA                        -0.016081\n",
       "auto_model_93                            -0.017451\n",
       "capital-gains                            -0.019173\n",
       "insured_education_level_Masters          -0.021997\n",
       "insured_education_level_High School      -0.022264\n",
       "auto_model_95                            -0.023877\n",
       "insured_occupation_handlers-cleaners     -0.023986\n",
       "insured_hobbies_sleeping                 -0.024873\n",
       "insured_occupation_prof-specialty        -0.024902\n",
       "insured_hobbies_video-games              -0.025002\n",
       "police_report_available_YES              -0.027768\n",
       "insured_hobbies_basketball               -0.030681\n",
       "insured_hobbies_exercise                 -0.030794\n",
       "auto_model_CRV                           -0.032131\n",
       "auto_model_Corolla                       -0.032131\n",
       "incident_state_NY                        -0.035404\n",
       "insured_relationship_own-child           -0.037186\n",
       "auto_model_Legacy                        -0.038259\n",
       "auto_model_Neon                          -0.038559\n",
       "auto_make_Toyota                         -0.038987\n",
       "auto_model_Camry                         -0.040985\n",
       "auto_model_Ultima                        -0.041471\n",
       "auto_model_RSX                           -0.041824\n",
       "auto_make_Nissan                         -0.045533\n",
       "policy_csl_500/1000                      -0.046045\n",
       "insured_hobbies_movies                   -0.046633\n",
       "insured_hobbies_bungie-jumping           -0.048731\n",
       "auto_model_Pathfinder                    -0.048926\n",
       "insured_occupation_priv-house-serv       -0.049991\n",
       "insured_occupation_other-service         -0.049991\n",
       "auto_make_Jeep                           -0.051462\n",
       "authorities_contacted_Police             -0.056729\n",
       "auto_model_Malibu                        -0.059944\n",
       "auto_model_Wrangler                      -0.062122\n",
       "insured_hobbies_dancing                  -0.064251\n",
       "insured_hobbies_golf                     -0.077146\n",
       "incident_state_WV                        -0.082123\n",
       "insured_hobbies_kayaking                 -0.085541\n",
       "insured_hobbies_camping                  -0.087317\n",
       "incident_type_Parked Car                 -0.106564\n",
       "incident_type_Vehicle Theft              -0.120916\n",
       "incident_severity_Trivial Damage         -0.131501\n",
       "authorities_contacted_None               -0.132840\n",
       "collision_type_Unknown                   -0.169527\n",
       "incident_severity_Total Loss             -0.171247\n",
       "incident_severity_Minor Damage           -0.239716\n",
       "Name: fraud_reported, dtype: float64"
      ]
     },
     "execution_count": 143,
     "metadata": {},
     "output_type": "execute_result"
    }
   ],
   "source": [
    "# Disply all Columns\n",
    "pd.options.display.max_rows=1074\n",
    "\n",
    "#clean_Office_Supply.corr().unstack().sort_values().drop_duplicates()\n",
    "au_copy[au_copy.columns[0:]].corr()['fraud_reported'][:].sort_values(axis=0, ascending=False, inplace=False, kind='quicksort', na_position='last')\n",
    "#sales_corr.sort_values(kind=\"quicksort\")"
   ]
  },
  {
   "cell_type": "code",
   "execution_count": 144,
   "metadata": {},
   "outputs": [
    {
     "data": {
      "text/plain": [
       "\"unwanted = au_copy[[\\n'collision_type_Side Collision',        \\n'auto_model_Highlander',                 \\n'incident_state_PA',          \\n'auto_year',                   \\n'auto_model_E400',                      \\n'incident_hour_of_the_day',      \\n'auto_make_Honda',                  \\n'auto_make_Dodge',                   \\n'incident_city_Hillsdale',              \\n'auto_model_Escape',                   \\n'insured_occupation_armed-forces',   \\n'auto_model_Grand Cherokee',        \\n'auto_model_Accord',                \\n'incident_city_Springfield',    \\n'insured_relationship_unmarried',\\n'auto_make_Suburu'        ,        \\n'insured_occupation_machine-op-inspct',\\n'insured_hobbies_hiking'              ]]\\n\\nau_copy.drop(unwanted, axis=1, inplace=True)\""
      ]
     },
     "execution_count": 144,
     "metadata": {},
     "output_type": "execute_result"
    }
   ],
   "source": [
    "'''unwanted = au_copy[[\n",
    "'collision_type_Side Collision',        \n",
    "'auto_model_Highlander',                 \n",
    "'incident_state_PA',          \n",
    "'auto_year',                   \n",
    "'auto_model_E400',                      \n",
    "'incident_hour_of_the_day',      \n",
    "'auto_make_Honda',                  \n",
    "'auto_make_Dodge',                   \n",
    "'incident_city_Hillsdale',              \n",
    "'auto_model_Escape',                   \n",
    "'insured_occupation_armed-forces',   \n",
    "'auto_model_Grand Cherokee',        \n",
    "'auto_model_Accord',                \n",
    "'incident_city_Springfield',    \n",
    "'insured_relationship_unmarried',\n",
    "'auto_make_Suburu'        ,        \n",
    "'insured_occupation_machine-op-inspct',\n",
    "'insured_hobbies_hiking'              ]]\n",
    "\n",
    "au_copy.drop(unwanted, axis=1, inplace=True)'''"
   ]
  },
  {
   "cell_type": "code",
   "execution_count": 145,
   "metadata": {},
   "outputs": [
    {
     "data": {
      "text/plain": [
       "(1000, 135)"
      ]
     },
     "execution_count": 145,
     "metadata": {},
     "output_type": "execute_result"
    }
   ],
   "source": [
    "au_copy.shape"
   ]
  },
  {
   "cell_type": "markdown",
   "metadata": {},
   "source": [
    "#### Removing Correlated Features"
   ]
  },
  {
   "cell_type": "code",
   "execution_count": 146,
   "metadata": {},
   "outputs": [],
   "source": [
    "correlated_features = set()\n",
    "correlation_matrix = au_copy.corr()"
   ]
  },
  {
   "cell_type": "markdown",
   "metadata": {},
   "source": [
    "In the script above, we create correlation matrix correlation_matrix for all the columns in our dataset. We also created a set correlated_features which will contain names of all the correlated features.  \n",
    "\n",
    "Next, we will loop through all the columns in the correlation_matrix and will add the columns with a correlation value of 0.8 to the correlated_features set as shown below. You can set any threshold value for the correlation."
   ]
  },
  {
   "cell_type": "code",
   "execution_count": 147,
   "metadata": {},
   "outputs": [],
   "source": [
    "for i in range(len(correlation_matrix .columns)):\n",
    "    for j in range(i):\n",
    "        if abs(correlation_matrix.iloc[i, j]) > 0.8:\n",
    "            colname = correlation_matrix.columns[i]\n",
    "            correlated_features.add(colname)"
   ]
  },
  {
   "cell_type": "code",
   "execution_count": 148,
   "metadata": {},
   "outputs": [
    {
     "data": {
      "text/plain": [
       "1"
      ]
     },
     "execution_count": 148,
     "metadata": {},
     "output_type": "execute_result"
    }
   ],
   "source": [
    "len(correlated_features)"
   ]
  },
  {
   "cell_type": "code",
   "execution_count": 149,
   "metadata": {},
   "outputs": [
    {
     "name": "stdout",
     "output_type": "stream",
     "text": [
      "{'collision_type_Unknown'}\n"
     ]
    }
   ],
   "source": [
    "print(correlated_features)"
   ]
  },
  {
   "cell_type": "markdown",
   "metadata": {},
   "source": [
    "<a id=\"IV\"></a>\n",
    "### Model-based and sequential feature selection"
   ]
  },
  {
   "cell_type": "markdown",
   "metadata": {},
   "source": [
    "#### Train Dataset "
   ]
  },
  {
   "cell_type": "code",
   "execution_count": 299,
   "metadata": {},
   "outputs": [
    {
     "data": {
      "text/plain": [
       "(1000, 135)"
      ]
     },
     "execution_count": 299,
     "metadata": {},
     "output_type": "execute_result"
    }
   ],
   "source": [
    "autinsurance_v3 = au_copy.copy()\n",
    "autinsurance_v3.shape"
   ]
  },
  {
   "cell_type": "code",
   "execution_count": 300,
   "metadata": {},
   "outputs": [
    {
     "name": "stdout",
     "output_type": "stream",
     "text": [
      "Index(['months_as_customer', 'policy_deductable', 'policy_annual_premium',\n",
      "       'umbrella_limit', 'capital-gains', 'capital-loss',\n",
      "       'incident_hour_of_the_day', 'number_of_vehicles_involved',\n",
      "       'bodily_injuries', 'witnesses',\n",
      "       ...\n",
      "       'auto_model_Pathfinder', 'auto_model_RAM', 'auto_model_RSX',\n",
      "       'auto_model_Silverado', 'auto_model_TL', 'auto_model_Tahoe',\n",
      "       'auto_model_Ultima', 'auto_model_Wrangler', 'auto_model_X5',\n",
      "       'auto_model_X6'],\n",
      "      dtype='object', length=135)\n"
     ]
    }
   ],
   "source": [
    "print(autinsurance_v3.columns)"
   ]
  },
  {
   "cell_type": "code",
   "execution_count": 329,
   "metadata": {},
   "outputs": [],
   "source": [
    " X = autinsurance_v3.drop('fraud_reported', axis = 1)\n",
    " y = autinsurance_v3.fraud_reported"
   ]
  },
  {
   "cell_type": "code",
   "execution_count": 330,
   "metadata": {},
   "outputs": [
    {
     "data": {
      "text/plain": [
       "(1000, 33)"
      ]
     },
     "execution_count": 330,
     "metadata": {},
     "output_type": "execute_result"
    }
   ],
   "source": [
    " X.shape"
   ]
  },
  {
   "cell_type": "code",
   "execution_count": 331,
   "metadata": {},
   "outputs": [
    {
     "data": {
      "text/plain": [
       "(1000,)"
      ]
     },
     "execution_count": 331,
     "metadata": {},
     "output_type": "execute_result"
    }
   ],
   "source": [
    "y.shape"
   ]
  },
  {
   "cell_type": "code",
   "execution_count": 332,
   "metadata": {},
   "outputs": [],
   "source": [
    "# Splitting the dataset into the Training set and Test set\n",
    "from sklearn.model_selection import train_test_split\n",
    "\n",
    "training_features, test_features, \\\n",
    "training_target, test_target, = train_test_split(autinsurance_v3.drop('fraud_reported', axis = 1),\n",
    "                                               autinsurance_v3.fraud_reported,\n",
    "                                               test_size = .2,\n",
    "                                               random_state=12)"
   ]
  },
  {
   "cell_type": "markdown",
   "metadata": {},
   "source": [
    "#### Feature importances Method"
   ]
  },
  {
   "cell_type": "code",
   "execution_count": 333,
   "metadata": {},
   "outputs": [
    {
     "data": {
      "image/png": "[encoded data removed]",
      "text/plain": [
       "<Figure size 1440x720 with 1 Axes>"
      ]
     },
     "metadata": {},
     "output_type": "display_data"
    }
   ],
   "source": [
    "from xgboost import XGBClassifier\n",
    "from matplotlib import pyplot\n",
    "\n",
    "plt.figure(figsize=(20,10))\n",
    "\n",
    "# fit model no training data\n",
    "model = XGBClassifier()\n",
    "model.fit(training_features, training_target)\n",
    "\n",
    "# feature importance\n",
    "#print(model.feature_importances_)\n",
    "\n",
    "# plot\n",
    "pyplot.bar(range(len(model.feature_importances_)), model.feature_importances_)\n",
    "pyplot.show()"
   ]
  },
  {
   "cell_type": "code",
   "execution_count": 334,
   "metadata": {},
   "outputs": [
    {
     "data": {
      "text/html": [
       "<div>\n",
       "<style scoped>\n",
       "    .dataframe tbody tr th:only-of-type {\n",
       "        vertical-align: middle;\n",
       "    }\n",
       "\n",
       "    .dataframe tbody tr th {\n",
       "        vertical-align: top;\n",
       "    }\n",
       "\n",
       "    .dataframe thead th {\n",
       "        text-align: right;\n",
       "    }\n",
       "</style>\n",
       "<table border=\"1\" class=\"dataframe\">\n",
       "  <thead>\n",
       "    <tr style=\"text-align: right;\">\n",
       "      <th></th>\n",
       "      <th>Importance Coef</th>\n",
       "      <th>Features</th>\n",
       "    </tr>\n",
       "  </thead>\n",
       "  <tbody>\n",
       "    <tr>\n",
       "      <th>0</th>\n",
       "      <td>0.129930</td>\n",
       "      <td>incident_severity_Total Loss</td>\n",
       "    </tr>\n",
       "    <tr>\n",
       "      <th>2</th>\n",
       "      <td>0.104004</td>\n",
       "      <td>insured_hobbies_chess</td>\n",
       "    </tr>\n",
       "    <tr>\n",
       "      <th>1</th>\n",
       "      <td>0.076940</td>\n",
       "      <td>insured_hobbies_cross-fit</td>\n",
       "    </tr>\n",
       "    <tr>\n",
       "      <th>3</th>\n",
       "      <td>0.064635</td>\n",
       "      <td>incident_severity_Minor Damage</td>\n",
       "    </tr>\n",
       "    <tr>\n",
       "      <th>15</th>\n",
       "      <td>0.032048</td>\n",
       "      <td>insured_hobbies_reading</td>\n",
       "    </tr>\n",
       "    <tr>\n",
       "      <th>22</th>\n",
       "      <td>0.031462</td>\n",
       "      <td>insured_education_level_Masters</td>\n",
       "    </tr>\n",
       "    <tr>\n",
       "      <th>25</th>\n",
       "      <td>0.030766</td>\n",
       "      <td>insured_hobbies_skydiving</td>\n",
       "    </tr>\n",
       "    <tr>\n",
       "      <th>28</th>\n",
       "      <td>0.030610</td>\n",
       "      <td>insured_relationship_other-relative</td>\n",
       "    </tr>\n",
       "    <tr>\n",
       "      <th>21</th>\n",
       "      <td>0.030206</td>\n",
       "      <td>auto_model_Malibu</td>\n",
       "    </tr>\n",
       "    <tr>\n",
       "      <th>10</th>\n",
       "      <td>0.028195</td>\n",
       "      <td>auto_model_Neon</td>\n",
       "    </tr>\n",
       "    <tr>\n",
       "      <th>6</th>\n",
       "      <td>0.027905</td>\n",
       "      <td>insured_occupation_craft-repair</td>\n",
       "    </tr>\n",
       "    <tr>\n",
       "      <th>11</th>\n",
       "      <td>0.027361</td>\n",
       "      <td>insured_relationship_own-child</td>\n",
       "    </tr>\n",
       "    <tr>\n",
       "      <th>20</th>\n",
       "      <td>0.026955</td>\n",
       "      <td>insured_hobbies_camping</td>\n",
       "    </tr>\n",
       "    <tr>\n",
       "      <th>23</th>\n",
       "      <td>0.025968</td>\n",
       "      <td>incident_state_WV</td>\n",
       "    </tr>\n",
       "    <tr>\n",
       "      <th>9</th>\n",
       "      <td>0.023758</td>\n",
       "      <td>auto_model_95</td>\n",
       "    </tr>\n",
       "    <tr>\n",
       "      <th>18</th>\n",
       "      <td>0.023067</td>\n",
       "      <td>insured_occupation_armed-forces</td>\n",
       "    </tr>\n",
       "    <tr>\n",
       "      <th>13</th>\n",
       "      <td>0.020875</td>\n",
       "      <td>vehicle_claim</td>\n",
       "    </tr>\n",
       "    <tr>\n",
       "      <th>26</th>\n",
       "      <td>0.020858</td>\n",
       "      <td>insured_occupation_handlers-cleaners</td>\n",
       "    </tr>\n",
       "    <tr>\n",
       "      <th>29</th>\n",
       "      <td>0.020842</td>\n",
       "      <td>insured_hobbies_video-games</td>\n",
       "    </tr>\n",
       "    <tr>\n",
       "      <th>4</th>\n",
       "      <td>0.020499</td>\n",
       "      <td>auto_model_X6</td>\n",
       "    </tr>\n",
       "    <tr>\n",
       "      <th>5</th>\n",
       "      <td>0.018841</td>\n",
       "      <td>auto_make_Volkswagen</td>\n",
       "    </tr>\n",
       "    <tr>\n",
       "      <th>7</th>\n",
       "      <td>0.018371</td>\n",
       "      <td>insured_relationship_wife</td>\n",
       "    </tr>\n",
       "    <tr>\n",
       "      <th>8</th>\n",
       "      <td>0.018007</td>\n",
       "      <td>insured_hobbies_hiking</td>\n",
       "    </tr>\n",
       "    <tr>\n",
       "      <th>32</th>\n",
       "      <td>0.017223</td>\n",
       "      <td>insured_hobbies_yachting</td>\n",
       "    </tr>\n",
       "    <tr>\n",
       "      <th>14</th>\n",
       "      <td>0.016332</td>\n",
       "      <td>insured_education_level_College</td>\n",
       "    </tr>\n",
       "    <tr>\n",
       "      <th>30</th>\n",
       "      <td>0.015961</td>\n",
       "      <td>collision_type_Rear Collision</td>\n",
       "    </tr>\n",
       "    <tr>\n",
       "      <th>19</th>\n",
       "      <td>0.015771</td>\n",
       "      <td>auto_model_A5</td>\n",
       "    </tr>\n",
       "    <tr>\n",
       "      <th>24</th>\n",
       "      <td>0.014972</td>\n",
       "      <td>auto_model_Civic</td>\n",
       "    </tr>\n",
       "    <tr>\n",
       "      <th>16</th>\n",
       "      <td>0.014728</td>\n",
       "      <td>insured_relationship_not-in-family</td>\n",
       "    </tr>\n",
       "    <tr>\n",
       "      <th>31</th>\n",
       "      <td>0.014311</td>\n",
       "      <td>collision_type_Side Collision</td>\n",
       "    </tr>\n",
       "    <tr>\n",
       "      <th>27</th>\n",
       "      <td>0.013619</td>\n",
       "      <td>incident_state_VA</td>\n",
       "    </tr>\n",
       "    <tr>\n",
       "      <th>12</th>\n",
       "      <td>0.012792</td>\n",
       "      <td>auto_make_Honda</td>\n",
       "    </tr>\n",
       "    <tr>\n",
       "      <th>17</th>\n",
       "      <td>0.012186</td>\n",
       "      <td>insured_occupation_tech-support</td>\n",
       "    </tr>\n",
       "  </tbody>\n",
       "</table>\n",
       "</div>"
      ],
      "text/plain": [
       "    Importance Coef                              Features\n",
       "0          0.129930          incident_severity_Total Loss\n",
       "2          0.104004                 insured_hobbies_chess\n",
       "1          0.076940             insured_hobbies_cross-fit\n",
       "3          0.064635        incident_severity_Minor Damage\n",
       "15         0.032048               insured_hobbies_reading\n",
       "22         0.031462       insured_education_level_Masters\n",
       "25         0.030766             insured_hobbies_skydiving\n",
       "28         0.030610   insured_relationship_other-relative\n",
       "21         0.030206                     auto_model_Malibu\n",
       "10         0.028195                       auto_model_Neon\n",
       "6          0.027905       insured_occupation_craft-repair\n",
       "11         0.027361        insured_relationship_own-child\n",
       "20         0.026955               insured_hobbies_camping\n",
       "23         0.025968                     incident_state_WV\n",
       "9          0.023758                         auto_model_95\n",
       "18         0.023067       insured_occupation_armed-forces\n",
       "13         0.020875                         vehicle_claim\n",
       "26         0.020858  insured_occupation_handlers-cleaners\n",
       "29         0.020842           insured_hobbies_video-games\n",
       "4          0.020499                         auto_model_X6\n",
       "5          0.018841                  auto_make_Volkswagen\n",
       "7          0.018371             insured_relationship_wife\n",
       "8          0.018007                insured_hobbies_hiking\n",
       "32         0.017223              insured_hobbies_yachting\n",
       "14         0.016332       insured_education_level_College\n",
       "30         0.015961         collision_type_Rear Collision\n",
       "19         0.015771                         auto_model_A5\n",
       "24         0.014972                      auto_model_Civic\n",
       "16         0.014728    insured_relationship_not-in-family\n",
       "31         0.014311         collision_type_Side Collision\n",
       "27         0.013619                     incident_state_VA\n",
       "12         0.012792                       auto_make_Honda\n",
       "17         0.012186       insured_occupation_tech-support"
      ]
     },
     "execution_count": 334,
     "metadata": {},
     "output_type": "execute_result"
    }
   ],
   "source": [
    "feature_importances = pd.DataFrame({'Importance Coef' :model.feature_importances_ , 'Features' : training_features.columns})\n",
    "feature_importances.nlargest(135, 'Importance Coef')"
   ]
  },
  {
   "cell_type": "code",
   "execution_count": 335,
   "metadata": {},
   "outputs": [],
   "source": [
    "features = feature_importances.nlargest(135, 'Importance Coef')"
   ]
  },
  {
   "cell_type": "code",
   "execution_count": 336,
   "metadata": {},
   "outputs": [
    {
     "data": {
      "text/plain": [
       "['incident_severity_Total Loss',\n",
       " 'insured_hobbies_chess',\n",
       " 'insured_hobbies_cross-fit',\n",
       " 'incident_severity_Minor Damage',\n",
       " 'insured_hobbies_reading',\n",
       " 'insured_education_level_Masters',\n",
       " 'insured_hobbies_skydiving',\n",
       " 'insured_relationship_other-relative',\n",
       " 'auto_model_Malibu',\n",
       " 'auto_model_Neon',\n",
       " 'insured_occupation_craft-repair',\n",
       " 'insured_relationship_own-child',\n",
       " 'insured_hobbies_camping',\n",
       " 'incident_state_WV',\n",
       " 'auto_model_95',\n",
       " 'insured_occupation_armed-forces',\n",
       " 'vehicle_claim',\n",
       " 'insured_occupation_handlers-cleaners',\n",
       " 'insured_hobbies_video-games',\n",
       " 'auto_model_X6',\n",
       " 'auto_make_Volkswagen',\n",
       " 'insured_relationship_wife',\n",
       " 'insured_hobbies_hiking',\n",
       " 'insured_hobbies_yachting',\n",
       " 'insured_education_level_College',\n",
       " 'collision_type_Rear Collision',\n",
       " 'auto_model_A5',\n",
       " 'auto_model_Civic',\n",
       " 'insured_relationship_not-in-family',\n",
       " 'collision_type_Side Collision',\n",
       " 'incident_state_VA',\n",
       " 'auto_make_Honda',\n",
       " 'insured_occupation_tech-support']"
      ]
     },
     "execution_count": 336,
     "metadata": {},
     "output_type": "execute_result"
    }
   ],
   "source": [
    "features =[x for x in features['Features'] if x!=0]\n",
    "features"
   ]
  },
  {
   "cell_type": "code",
   "execution_count": 309,
   "metadata": {},
   "outputs": [],
   "source": [
    "# autinsurance_v3 = autinsurance_v3[['incident_severity_Total Loss',\n",
    "#  'insured_hobbies_cross-fit',\n",
    "#  'insured_hobbies_chess',\n",
    "#  'incident_severity_Minor Damage',\n",
    "#  'auto_make_Honda',\n",
    "#  'insured_relationship_own-child',\n",
    "#  'insured_occupation_armed-forces',\n",
    "#  'auto_model_Neon',\n",
    "#  'insured_occupation_tech-support',\n",
    "#  'insured_hobbies_skydiving',\n",
    "#  'insured_hobbies_camping',\n",
    "#  'insured_hobbies_reading',\n",
    "#  'vehicle_claim',\n",
    "#  'insured_hobbies_hiking',\n",
    "#  'auto_model_95',\n",
    "#  'incident_type_Vehicle Theft',\n",
    "#  'insured_occupation_handlers-cleaners',\n",
    "#  'auto_model_X6',\n",
    "#  'auto_model_Maxima',\n",
    "#  'insured_relationship_wife',\n",
    "#  'incident_state_SC',\n",
    "#  'auto_model_Forrestor',\n",
    "#  'insured_education_level_MD',\n",
    "#  'auto_model_Malibu',\n",
    "#  'insured_hobbies_paintball',\n",
    "#  'insured_education_level_College',\n",
    "#  'incident_state_WV',\n",
    "#  'insured_education_level_Masters',\n",
    "#  'insured_occupation_machine-op-inspct',\n",
    "#  'collision_type_Rear Collision',\n",
    "#  'insured_hobbies_video-games',\n",
    "#  'auto_model_Jetta',\n",
    "#  'auto_make_Audi',\n",
    "#  'insured_hobbies_sleeping',\n",
    "#  'insured_hobbies_yachting',\n",
    "#  'auto_make_Ford',\n",
    "#  'auto_model_Civic',\n",
    "#  'auto_model_Wrangler',\n",
    "#  'insured_education_level_JD',\n",
    "#  'auto_model_Pathfinder',\n",
    "#  'policy_csl_500/1000',\n",
    "#  'authorities_contacted_Other',\n",
    "#  'incident_state_VA',\n",
    "#  'incident_severity_Trivial Damage',\n",
    "#  'insured_hobbies_board-games',\n",
    "#  'auto_year',\n",
    "#  'witnesses',\n",
    "#  'auto_make_Volkswagen',\n",
    "#  'auto_model_Passat',\n",
    "#  'auto_model_A5',\n",
    "#  'capital-loss',\n",
    "#  'insured_occupation_craft-repair',\n",
    "#  'policy_annual_premium',\n",
    "#  'capital-gains',\n",
    "#  'authorities_contacted_Fire',\n",
    "#  'insured_relationship_unmarried',\n",
    "#  'insured_education_level_PhD',\n",
    "#  'insured_hobbies_exercise',\n",
    "#  'insured_relationship_other-relative',\n",
    "#  'insured_occupation_exec-managerial',\n",
    "#  'incident_hour_of_the_day',\n",
    "#  'incident_state_NY',\n",
    "#  'policy_csl_250/500',\n",
    "#  'insured_occupation_priv-house-serv',\n",
    "#  'bodily_injuries',\n",
    "#  'auto_make_Saab',\n",
    "#  'policy_deductable',\n",
    "#  'policy_state_IN',\n",
    "#  'police_report_available_YES',\n",
    "#  'months_as_customer',\n",
    "#  'umbrella_limit',\n",
    "#  'insured_occupation_protective-serv',\n",
    "#  'police_report_available_Unknown',\n",
    "#  'property_damage_YES',\n",
    "#  'incident_type_Single Vehicle Collision',\n",
    "#  'authorities_contacted_None',\n",
    "#  'incident_state_OH',\n",
    "#  'policy_state_OH',\n",
    "#  'insured_sex_MALE',\n",
    "#  'auto_make_Nissan',\n",
    "#  'insured_occupation_prof-specialty',\n",
    "#  'insured_education_level_High School',\n",
    "#  'property_damage_Unknown',\n",
    "#  'collision_type_Side Collision',\n",
    "#  'number_of_vehicles_involved',\n",
    "#  'authorities_contacted_Police',\n",
    "#  'auto_make_Dodge',\n",
    "#  'auto_make_BMW',\n",
    "#  'auto_make_Jeep',\n",
    "#  'insured_hobbies_dancing',\n",
    "#  'insured_relationship_not-in-family','fraud_reported']]"
   ]
  },
  {
   "cell_type": "code",
   "execution_count": 318,
   "metadata": {},
   "outputs": [],
   "source": [
    "# autinsurance_v3 = autinsurance_v3[['incident_severity_Total Loss',\n",
    "#  'insured_hobbies_cross-fit',\n",
    "#  'insured_hobbies_chess',\n",
    "#  'incident_severity_Minor Damage',\n",
    "#  'auto_model_X6',\n",
    "#  'auto_make_Volkswagen',\n",
    "#  'insured_occupation_craft-repair',\n",
    "#  'insured_relationship_wife',\n",
    "#  'insured_hobbies_hiking',\n",
    "#  'auto_model_95',\n",
    "#  'auto_model_Neon',\n",
    "#  'insured_relationship_own-child',\n",
    "#  'auto_make_Honda',\n",
    "#  'vehicle_claim',\n",
    "#  'insured_education_level_College',\n",
    "#  'insured_hobbies_reading',\n",
    "#  'insured_relationship_not-in-family',\n",
    "#  'insured_occupation_tech-support',\n",
    "#  'insured_occupation_armed-forces',\n",
    "#  'auto_model_A5',\n",
    "#  'auto_make_Dodge',\n",
    "#  'insured_hobbies_camping',\n",
    "#  'auto_model_Malibu',\n",
    "#  'insured_education_level_Masters',\n",
    "#  'incident_state_WV',\n",
    "#  'auto_model_Civic',\n",
    "#  'insured_hobbies_skydiving',\n",
    "#  'insured_occupation_handlers-cleaners',\n",
    "#  'incident_state_VA',\n",
    "#  'insured_relationship_other-relative',\n",
    "#  'insured_hobbies_video-games',\n",
    "#  'collision_type_Rear Collision',\n",
    "#  'collision_type_Side Collision',\n",
    "#  'insured_hobbies_yachting','fraud_reported']]"
   ]
  },
  {
   "cell_type": "code",
   "execution_count": 327,
   "metadata": {},
   "outputs": [],
   "source": [
    "# to_delete=['auto_make_Dodge']"
   ]
  },
  {
   "cell_type": "code",
   "execution_count": 328,
   "metadata": {},
   "outputs": [],
   "source": [
    "# autinsurance_v3 = autinsurance_v3.drop(to_delete, axis = 1)"
   ]
  },
  {
   "cell_type": "markdown",
   "metadata": {},
   "source": [
    "#### Removing Constant features\n",
    "\n",
    "Constant features are the type of features that contain only one value for all the outputs in the dataset. Constant features provide no information that can help in classification of the record at hand. Therefore, it is advisable to remove all the constant features from the dataset."
   ]
  },
  {
   "cell_type": "code",
   "execution_count": 337,
   "metadata": {},
   "outputs": [],
   "source": [
    "#autinsurance_v3 = au_copy.copy()\n",
    "autinsurance_v3.shape\n",
    "\n",
    "\n",
    "# Splitting the dataset into the Training set and Test set\n",
    "from sklearn.model_selection import train_test_split\n",
    "\n",
    "training_features, test_features, \\\n",
    "training_target, test_target, = train_test_split(autinsurance_v3.drop('fraud_reported', axis = 1),\n",
    "                                               autinsurance_v3.fraud_reported,\n",
    "                                               test_size = .2,\n",
    "                                               random_state=12)"
   ]
  },
  {
   "cell_type": "code",
   "execution_count": 338,
   "metadata": {},
   "outputs": [],
   "source": [
    "from sklearn.feature_selection import VarianceThreshold"
   ]
  },
  {
   "cell_type": "markdown",
   "metadata": {},
   "source": [
    "Now is the time to remove constant features. To do so we will use VarianceThreshold function that we imported earlier. The function requires a value for its threshold parameter. Passing a value of zero for the parameter will filter all the features with zero variance. Execute the following script to create a filter for constant features."
   ]
  },
  {
   "cell_type": "code",
   "execution_count": 339,
   "metadata": {},
   "outputs": [],
   "source": [
    "constant_filter = VarianceThreshold(threshold=0)"
   ]
  },
  {
   "cell_type": "code",
   "execution_count": 340,
   "metadata": {},
   "outputs": [
    {
     "data": {
      "text/plain": [
       "VarianceThreshold(threshold=0)"
      ]
     },
     "execution_count": 340,
     "metadata": {},
     "output_type": "execute_result"
    }
   ],
   "source": [
    "constant_filter.fit(training_features)"
   ]
  },
  {
   "cell_type": "code",
   "execution_count": 341,
   "metadata": {},
   "outputs": [
    {
     "data": {
      "text/plain": [
       "33"
      ]
     },
     "execution_count": 341,
     "metadata": {},
     "output_type": "execute_result"
    }
   ],
   "source": [
    "len(training_features.columns[constant_filter.get_support()])"
   ]
  },
  {
   "cell_type": "code",
   "execution_count": 342,
   "metadata": {},
   "outputs": [
    {
     "name": "stdout",
     "output_type": "stream",
     "text": [
      "0\n"
     ]
    }
   ],
   "source": [
    "# Find the number of constant features\n",
    "constant_columns = [column for column in training_features.columns\n",
    "                    if column not in training_features.columns[constant_filter.get_support()]]\n",
    "\n",
    "print(len(constant_columns))"
   ]
  },
  {
   "cell_type": "code",
   "execution_count": 343,
   "metadata": {},
   "outputs": [],
   "source": [
    "#To see all the constant columns, execute the following script:\n",
    "    \n",
    "for column in constant_columns:\n",
    "    print(column)"
   ]
  },
  {
   "cell_type": "code",
   "execution_count": 344,
   "metadata": {},
   "outputs": [
    {
     "data": {
      "text/plain": [
       "((800, 33), (200, 33))"
      ]
     },
     "execution_count": 344,
     "metadata": {},
     "output_type": "execute_result"
    }
   ],
   "source": [
    "# Remove constant features from training and test sets, we can use the transform() \n",
    "\n",
    "methodtraining_features = constant_filter.transform(training_features)\n",
    "test_features = constant_filter.transform(test_features)\n",
    "\n",
    "training_features.shape, test_features.shape"
   ]
  },
  {
   "cell_type": "markdown",
   "metadata": {},
   "source": [
    "#### Removing Duplicate Features\n",
    "Duplicate features are the features that have similar values. Duplicate features do not add any value to algorithm training, rather they add overhead and unnecessary delay to the training time. Therefore, it is always recommended to remove the duplicate features from the dataset before training."
   ]
  },
  {
   "cell_type": "code",
   "execution_count": 345,
   "metadata": {},
   "outputs": [
    {
     "data": {
      "text/plain": [
       "(33, 800)"
      ]
     },
     "execution_count": 345,
     "metadata": {},
     "output_type": "execute_result"
    }
   ],
   "source": [
    "training_features_T = training_features.T\n",
    "training_features_T.shape"
   ]
  },
  {
   "cell_type": "markdown",
   "metadata": {},
   "source": [
    "Removing duplicate columns can be computationally costly since we have to take the transpose of the data matrix before we can remove duplicate features."
   ]
  },
  {
   "cell_type": "code",
   "execution_count": 346,
   "metadata": {},
   "outputs": [
    {
     "name": "stdout",
     "output_type": "stream",
     "text": [
      "0\n"
     ]
    }
   ],
   "source": [
    "print(training_features_T.duplicated().sum())"
   ]
  },
  {
   "cell_type": "code",
   "execution_count": 347,
   "metadata": {},
   "outputs": [],
   "source": [
    "unique_features = training_features_T.drop_duplicates(keep='first').T"
   ]
  },
  {
   "cell_type": "markdown",
   "metadata": {},
   "source": [
    "#### Removing Correlated Features"
   ]
  },
  {
   "cell_type": "code",
   "execution_count": 348,
   "metadata": {},
   "outputs": [],
   "source": [
    "correlated_features = set()\n",
    "correlation_matrix = au_copy.corr()"
   ]
  },
  {
   "cell_type": "markdown",
   "metadata": {},
   "source": [
    "In the script above, we create correlation matrix correlation_matrix for all the columns in our dataset. We also created a set correlated_features which will contain names of all the correlated features.  \n",
    "\n",
    "Next, we will loop through all the columns in the correlation_matrix and will add the columns with a correlation value of 0.8 to the correlated_features set as shown below. You can set any threshold value for the correlation."
   ]
  },
  {
   "cell_type": "code",
   "execution_count": 349,
   "metadata": {},
   "outputs": [],
   "source": [
    "for i in range(len(correlation_matrix .columns)):\n",
    "    for j in range(i):\n",
    "        if abs(correlation_matrix.iloc[i, j]) > 0.8:\n",
    "            colname = correlation_matrix.columns[i]\n",
    "            correlated_features.add(colname)"
   ]
  },
  {
   "cell_type": "code",
   "execution_count": 350,
   "metadata": {},
   "outputs": [
    {
     "data": {
      "text/plain": [
       "1"
      ]
     },
     "execution_count": 350,
     "metadata": {},
     "output_type": "execute_result"
    }
   ],
   "source": [
    "len(correlated_features)"
   ]
  },
  {
   "cell_type": "code",
   "execution_count": 351,
   "metadata": {},
   "outputs": [
    {
     "name": "stdout",
     "output_type": "stream",
     "text": [
      "{'collision_type_Unknown'}\n"
     ]
    }
   ],
   "source": [
    "print(correlated_features)"
   ]
  },
  {
   "cell_type": "markdown",
   "metadata": {},
   "source": [
    "#### Save Dataset into new version file"
   ]
  },
  {
   "cell_type": "code",
   "execution_count": 352,
   "metadata": {},
   "outputs": [
    {
     "data": {
      "text/plain": [
       "(1000, 34)"
      ]
     },
     "execution_count": 352,
     "metadata": {},
     "output_type": "execute_result"
    }
   ],
   "source": [
    "autinsurance_v3.shape"
   ]
  },
  {
   "cell_type": "code",
   "execution_count": 353,
   "metadata": {},
   "outputs": [],
   "source": [
    "# Save to file\n",
    "autinsurance_v3.to_csv(\"insurance_claimsV4.csv\")\n"
   ]
  },
  {
   "cell_type": "code",
   "execution_count": null,
   "metadata": {},
   "outputs": [],
   "source": []
  }
 ],
 "metadata": {
  "kernelspec": {
   "display_name": "Python 3",
   "language": "python",
   "name": "python3"
  },
  "language_info": {
   "codemirror_mode": {
    "name": "ipython",
    "version": 3
   },
   "file_extension": ".py",
   "mimetype": "text/x-python",
   "name": "python",
   "nbconvert_exporter": "python",
   "pygments_lexer": "ipython3",
   "version": "3.7.3"
  },
  "toc": {
   "base_numbering": 1,
   "nav_menu": {},
   "number_sections": true,
   "sideBar": true,
   "skip_h1_title": false,
   "title_cell": "Table of Contents",
   "title_sidebar": "Contents",
   "toc_cell": false,
   "toc_position": {},
   "toc_section_display": true,
   "toc_window_display": false
  }
 },
 "nbformat": 4,
 "nbformat_minor": 2
}
